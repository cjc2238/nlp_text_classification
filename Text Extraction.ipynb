{
 "cells": [
  {
   "cell_type": "code",
   "execution_count": 63,
   "metadata": {},
   "outputs": [],
   "source": [
    "import pandas as pd\n",
    "# ^^^ pyforest auto-imports - don't write above this line\n",
    "from Bio import Entrez"
   ]
  },
  {
   "cell_type": "markdown",
   "metadata": {},
   "source": [
    "# Dataset Creation"
   ]
  },
  {
   "cell_type": "code",
   "execution_count": 64,
   "metadata": {},
   "outputs": [],
   "source": [
    "def search(query):\n",
    "        Entrez.email = 'cjc2238@tc.columbia.edu'\n",
    "        handle = Entrez.esearch(db='pubmed',\n",
    "                                sort='relevance',\n",
    "                                retmax='5',\n",
    "                                retmode='xml',\n",
    "                                term=query)\n",
    "        results = Entrez.read(handle)\n",
    "        return results\n",
    "    \n",
    "def fetch_details(id_list):\n",
    "    ids = ','.join(id_list)\n",
    "    Entrez.email = 'cjc2238@tc.columbia.edu'\n",
    "    handle = Entrez.efetch(db='pubmed',\n",
    "                           retmode='xml',\n",
    "                           id=ids)\n",
    "    results = Entrez.read(handle)\n",
    "    return results"
   ]
  },
  {
   "cell_type": "code",
   "execution_count": 80,
   "metadata": {},
   "outputs": [
    {
     "data": {
      "text/plain": [
       "{'PubmedBookArticle': [], 'PubmedArticle': [{'MedlineCitation': DictElement({'OtherID': [], 'KeywordList': [ListElement([StringElement('Fever', attributes={'MajorTopicYN': 'N'}), StringElement('antibiotics', attributes={'MajorTopicYN': 'N'}), StringElement('fever burden', attributes={'MajorTopicYN': 'N'}), StringElement('subarachnoid hemorrhage', attributes={'MajorTopicYN': 'N'})], attributes={'Owner': 'NOTNLM'})], 'OtherAbstract': [], 'CitationSubset': ['IM'], 'SpaceFlightMission': [], 'GeneralNote': [], 'PMID': StringElement('31405792', attributes={'Version': '1'}), 'DateCompleted': {'Year': '2019', 'Month': '12', 'Day': '23'}, 'DateRevised': {'Year': '2019', 'Month': '12', 'Day': '23'}, 'Article': DictElement({'ELocationID': [StringElement('S1052-3057(19)30354-4', attributes={'EIdType': 'pii', 'ValidYN': 'Y'}), StringElement('10.1016/j.jstrokecerebrovasdis.2019.104313', attributes={'EIdType': 'doi', 'ValidYN': 'Y'})], 'Language': ['eng'], 'ArticleDate': [DictElement({'Year': '2019', 'Month': '08', 'Day': '09'}, attributes={'DateType': 'Electronic'})], 'Journal': {'ISSN': StringElement('1532-8511', attributes={'IssnType': 'Electronic'}), 'JournalIssue': DictElement({'Volume': '28', 'Issue': '11', 'PubDate': {'Year': '2019', 'Month': 'Nov'}}, attributes={'CitedMedium': 'Internet'}), 'Title': 'Journal of stroke and cerebrovascular diseases : the official journal of National Stroke Association', 'ISOAbbreviation': 'J Stroke Cerebrovasc Dis'}, 'ArticleTitle': 'Fever Burden in Patients With Subarachnoid Hemorrhage and the Increased Use of Antibiotics.', 'Pagination': {'MedlinePgn': '104313'}, 'Abstract': {'AbstractText': [StringElement('Fever occurs in the majority of subarachnoid hemorrhage (SAH) patients. Nearly 50% of SAH patients have noninfectious fevers. Data are lacking describing the effects of fever burden in the SAH patient population.', attributes={'Label': 'BACKGROUND', 'NlmCategory': 'BACKGROUND'}), StringElement('This was a single-center, retrospective observational cohort study in patients more or equal to 18 years of age with a diagnosis of nontraumatic SAH admitted to an ICU between January 1, 2010 and September 1, 2015. Exclusion criteria were SAH secondary to trauma or admission for more than 48 hours. Temperature measurements, demographic data, and other pertinent information were collected from Day 0 to Day 13. Daily fever burden was calculated for each patient by calculating an area under the curve.', attributes={'Label': 'METHODS', 'NlmCategory': 'METHODS'}), StringElement('A total of 194 subjects were included. The mean study period maximum temperature (Tmax) for all 194 patients was 40.8 ± 0.83°C. The mean overall fever burden for all 194 patients was 89.2 ± 99.59°C h more than 37°C. The overall fever burden peaked on day 5 and declined thereafter. Fever burden, Tmax, and length of stay in the hospital were all significantly associated with receipt of antibiotics. Only Tmax was associated with poor outcome. The 31 patients who had fever but no identified cause of infection received 1000 doses of antibiotics or 32.25 doses per patient.', attributes={'Label': 'RESULTS', 'NlmCategory': 'RESULTS'}), StringElement('Fever is common in SAH patients and is associated with antibiotic use, infection, vasospasm, and poor outcome. Some SAH patients may receive antibiotics unnecessarily for noninfectious fever. Clinicians should consider using site-specific parameters related to infection rather than systemic symptoms such as fever to evaluate infection in SAH patients.', attributes={'Label': 'CONCLUSION', 'NlmCategory': 'CONCLUSIONS'})], 'CopyrightInformation': 'Copyright © 2019 Elsevier Inc. All rights reserved.'}, 'AuthorList': ListElement([DictElement({'AffiliationInfo': [{'Identifier': [], 'Affiliation': 'Medical University of South Carolina Hospital Authority, Department of Pharmacy Services, Charleston, South Carolina. Electronic address: mageeca@musc.edu.'}], 'Identifier': [], 'LastName': 'Magee', 'ForeName': 'Carolyn A', 'Initials': 'CA'}, attributes={'ValidYN': 'Y'}), DictElement({'AffiliationInfo': [{'Identifier': [], 'Affiliation': 'University of Kentucky HealthCare, Department of Pharmacy Services, Lexington, Kentucky; University of Kentucky College of Pharmacy, Department of Pharmacy Practice and Science, Lexington, Kentucky.'}], 'Identifier': [], 'LastName': 'Thompson Bastin', 'ForeName': 'Melissa L', 'Initials': 'ML'}, attributes={'ValidYN': 'Y'}), DictElement({'AffiliationInfo': [{'Identifier': [], 'Affiliation': 'Norton Audubon Hospital, Department of Pharmacy, Louisville, Kentucky.'}], 'Identifier': [], 'LastName': 'Graves', 'ForeName': 'Katelyn', 'Initials': 'K'}, attributes={'ValidYN': 'Y'}), DictElement({'AffiliationInfo': [{'Identifier': [], 'Affiliation': 'University of Kentucky HealthCare, Department of Pharmacy Services, Lexington, Kentucky; University of Kentucky College of Pharmacy, Department of Pharmacy Practice and Science, Lexington, Kentucky.'}], 'Identifier': [], 'LastName': 'Burgess', 'ForeName': 'Donna', 'Initials': 'D'}, attributes={'ValidYN': 'Y'}), DictElement({'AffiliationInfo': [{'Identifier': [], 'Affiliation': 'University of Kentucky HealthCare, Department of Pharmacy Services, Lexington, Kentucky; University of Kentucky College of Pharmacy, Department of Pharmacy Practice and Science, Lexington, Kentucky.'}], 'Identifier': [], 'LastName': 'Nestor', 'ForeName': 'Melissa', 'Initials': 'M'}, attributes={'ValidYN': 'Y'}), DictElement({'AffiliationInfo': [{'Identifier': [], 'Affiliation': 'Norton Audubon Hospital, Department of Pharmacy, Louisville, Kentucky; University of Kentucky HealthCare, Department of Graduate Medical Education, Lexington, Kentucky.'}], 'Identifier': [], 'LastName': 'Lamm', 'ForeName': 'John R', 'Initials': 'JR'}, attributes={'ValidYN': 'Y'}), DictElement({'AffiliationInfo': [{'Identifier': [], 'Affiliation': 'University of Kentucky HealthCare, Department of Pharmacy Services, Lexington, Kentucky; University of Kentucky College of Pharmacy, Department of Pharmacy Practice and Science, Lexington, Kentucky.'}], 'Identifier': [], 'LastName': 'Cook', 'ForeName': 'Aaron M', 'Initials': 'AM'}, attributes={'ValidYN': 'Y'})], attributes={'CompleteYN': 'Y'}), 'PublicationTypeList': [StringElement('Journal Article', attributes={'UI': 'D016428'}), StringElement('Observational Study', attributes={'UI': 'D064888'})]}, attributes={'PubModel': 'Print-Electronic'}), 'MedlineJournalInfo': {'Country': 'United States', 'MedlineTA': 'J Stroke Cerebrovasc Dis', 'NlmUniqueID': '9111633', 'ISSNLinking': '1052-3057'}, 'ChemicalList': [{'RegistryNumber': '0', 'NameOfSubstance': StringElement('Anti-Bacterial Agents', attributes={'UI': 'D000900'})}], 'MeshHeadingList': [{'QualifierName': [StringElement('therapeutic use', attributes={'UI': 'Q000627', 'MajorTopicYN': 'Y'})], 'DescriptorName': StringElement('Anti-Bacterial Agents', attributes={'UI': 'D000900', 'MajorTopicYN': 'N'})}, {'QualifierName': [], 'DescriptorName': StringElement('Antimicrobial Stewardship', attributes={'UI': 'D000073602', 'MajorTopicYN': 'N'})}, {'QualifierName': [StringElement('drug effects', attributes={'UI': 'Q000187', 'MajorTopicYN': 'Y'})], 'DescriptorName': StringElement('Body Temperature Regulation', attributes={'UI': 'D001833', 'MajorTopicYN': 'N'})}, {'QualifierName': [], 'DescriptorName': StringElement('Female', attributes={'UI': 'D005260', 'MajorTopicYN': 'N'})}, {'QualifierName': [StringElement('drug therapy', attributes={'UI': 'Q000188', 'MajorTopicYN': 'Y'}), StringElement('microbiology', attributes={'UI': 'Q000382', 'MajorTopicYN': 'N'}), StringElement('physiopathology', attributes={'UI': 'Q000503', 'MajorTopicYN': 'N'})], 'DescriptorName': StringElement('Fever', attributes={'UI': 'D005334', 'MajorTopicYN': 'N'})}, {'QualifierName': [], 'DescriptorName': StringElement('Humans', attributes={'UI': 'D006801', 'MajorTopicYN': 'N'})}, {'QualifierName': [], 'DescriptorName': StringElement('Inappropriate Prescribing', attributes={'UI': 'D057970', 'MajorTopicYN': 'Y'})}, {'QualifierName': [], 'DescriptorName': StringElement('Length of Stay', attributes={'UI': 'D007902', 'MajorTopicYN': 'N'})}, {'QualifierName': [], 'DescriptorName': StringElement('Male', attributes={'UI': 'D008297', 'MajorTopicYN': 'N'})}, {'QualifierName': [], 'DescriptorName': StringElement('Middle Aged', attributes={'UI': 'D008875', 'MajorTopicYN': 'N'})}, {'QualifierName': [], 'DescriptorName': StringElement('Retrospective Studies', attributes={'UI': 'D012189', 'MajorTopicYN': 'N'})}, {'QualifierName': [], 'DescriptorName': StringElement('Risk Assessment', attributes={'UI': 'D018570', 'MajorTopicYN': 'N'})}, {'QualifierName': [], 'DescriptorName': StringElement('Risk Factors', attributes={'UI': 'D012307', 'MajorTopicYN': 'N'})}, {'QualifierName': [StringElement('complications', attributes={'UI': 'Q000150', 'MajorTopicYN': 'Y'})], 'DescriptorName': StringElement('Subarachnoid Hemorrhage', attributes={'UI': 'D013345', 'MajorTopicYN': 'N'})}, {'QualifierName': [], 'DescriptorName': StringElement('Time Factors', attributes={'UI': 'D013997', 'MajorTopicYN': 'N'})}, {'QualifierName': [], 'DescriptorName': StringElement('Treatment Outcome', attributes={'UI': 'D016896', 'MajorTopicYN': 'N'})}]}, attributes={'Status': 'MEDLINE', 'Owner': 'NLM'}), 'PubmedData': {'ReferenceList': [], 'History': [DictElement({'Year': '2019', 'Month': '05', 'Day': '07'}, attributes={'PubStatus': 'received'}), DictElement({'Year': '2019', 'Month': '07', 'Day': '10'}, attributes={'PubStatus': 'revised'}), DictElement({'Year': '2019', 'Month': '07', 'Day': '19'}, attributes={'PubStatus': 'accepted'}), DictElement({'Year': '2019', 'Month': '8', 'Day': '14', 'Hour': '6', 'Minute': '0'}, attributes={'PubStatus': 'pubmed'}), DictElement({'Year': '2019', 'Month': '12', 'Day': '24', 'Hour': '6', 'Minute': '0'}, attributes={'PubStatus': 'medline'}), DictElement({'Year': '2019', 'Month': '8', 'Day': '14', 'Hour': '6', 'Minute': '0'}, attributes={'PubStatus': 'entrez'})], 'PublicationStatus': 'ppublish', 'ArticleIdList': [StringElement('31405792', attributes={'IdType': 'pubmed'}), StringElement('S1052-3057(19)30354-4', attributes={'IdType': 'pii'}), StringElement('10.1016/j.jstrokecerebrovasdis.2019.104313', attributes={'IdType': 'doi'})]}}, {'MedlineCitation': DictElement({'OtherID': [], 'KeywordList': [ListElement([StringElement('children', attributes={'MajorTopicYN': 'Y'}), StringElement('fever', attributes={'MajorTopicYN': 'Y'}), StringElement('grounded theory', attributes={'MajorTopicYN': 'Y'}), StringElement('parents', attributes={'MajorTopicYN': 'Y'}), StringElement('perception', attributes={'MajorTopicYN': 'Y'})], attributes={'Owner': 'NOTNLM'})], 'OtherAbstract': [], 'CitationSubset': ['IM'], 'SpaceFlightMission': [], 'GeneralNote': [], 'PMID': StringElement('31426408', attributes={'Version': '1'}), 'DateCompleted': {'Year': '2020', 'Month': '01', 'Day': '03'}, 'DateRevised': {'Year': '2020', 'Month': '01', 'Day': '03'}, 'Article': DictElement({'ELocationID': [StringElement('E2959', attributes={'EIdType': 'pii', 'ValidYN': 'Y'}), StringElement('10.3390/ijerph16162959', attributes={'EIdType': 'doi', 'ValidYN': 'Y'})], 'Language': ['eng'], 'ArticleDate': [DictElement({'Year': '2019', 'Month': '08', 'Day': '16'}, attributes={'DateType': 'Electronic'})], 'Journal': {'ISSN': StringElement('1660-4601', attributes={'IssnType': 'Electronic'}), 'JournalIssue': DictElement({'Volume': '16', 'Issue': '16', 'PubDate': {'Year': '2019', 'Month': '08', 'Day': '16'}}, attributes={'CitedMedium': 'Internet'}), 'Title': 'International journal of environmental research and public health', 'ISOAbbreviation': 'Int J Environ Res Public Health'}, 'ArticleTitle': \"A Qualitative Study of Parents' Conceptualizations on Fever in Children Aged 0 to 12 Years.\", 'Abstract': {'AbstractText': ['Many parents experience \"fever phobia\", based on misconceptions regarding the repercussions of fever in their children. The aim of this paper was to explore the conceptualizations of parents who are health professionals and parents without health qualifications on childhood fever. This qualitative study was based on grounded theory using a triangulated sample (theoretical sampling and snowball sampling) of parents of children aged 0 to 12 years old who received care for fever in the Emergency Primary Care Services two in Spanish municipalities. Data collection was based on focus groups segmented by gender, place of residence and education. Data analysis followed the constant comparative method and involved a coding process. Results show that independently of the parents\\' place of residence or education, their perceptions of fever were somewhat ambivalent, beneficial at times, but also harmful. Parents acknowledged feelings of concern, fear, being overwhelmed, freezing up and relief once the fever was controlled. Health professional parents considered they had an extra responsibility for caring. Finally, parents without health education demanded more information from professionals. These results provide key information for the design of interventions directed at the management of fever in children.']}, 'AuthorList': ListElement([DictElement({'AffiliationInfo': [{'Identifier': [], 'Affiliation': 'Health Center of Bargas, 45593 Toledo, Spain. mgloria.villarejo@alu.uclm.es.'}, {'Identifier': [], 'Affiliation': 'Social and Health Care Center, University of Castilla-La Mancha, 16007 Cuenca, Spain. mgloria.villarejo@alu.uclm.es.'}], 'Identifier': [StringElement('0000-0002-5249-2348', attributes={'Source': 'ORCID'})], 'LastName': 'Villarejo-Rodríguez', 'ForeName': 'María Gloria', 'Initials': 'MG'}, attributes={'ValidYN': 'Y'}), DictElement({'AffiliationInfo': [{'Identifier': [], 'Affiliation': 'Social and Health Care Center, University of Castilla-La Mancha, 16007 Cuenca, Spain.'}, {'Identifier': [], 'Affiliation': 'Faculty of Health Sciences, University of Castilla-La Mancha, Talavera de la Reina, 45600 Toledo, Spain.'}], 'Identifier': [], 'LastName': 'Rodríguez-Martín', 'ForeName': 'Beatriz', 'Initials': 'B'}, attributes={'ValidYN': 'Y'})], attributes={'CompleteYN': 'Y'}), 'PublicationTypeList': [StringElement('Journal Article', attributes={'UI': 'D016428'}), StringElement(\"Research Support, Non-U.S. Gov't\", attributes={'UI': 'D013485'})]}, attributes={'PubModel': 'Electronic'}), 'MedlineJournalInfo': {'Country': 'Switzerland', 'MedlineTA': 'Int J Environ Res Public Health', 'NlmUniqueID': '101238455', 'ISSNLinking': '1660-4601'}, 'MeshHeadingList': [{'QualifierName': [], 'DescriptorName': StringElement('Adult', attributes={'UI': 'D000328', 'MajorTopicYN': 'N'})}, {'QualifierName': [], 'DescriptorName': StringElement('Child', attributes={'UI': 'D002648', 'MajorTopicYN': 'N'})}, {'QualifierName': [], 'DescriptorName': StringElement('Child, Preschool', attributes={'UI': 'D002675', 'MajorTopicYN': 'N'})}, {'QualifierName': [], 'DescriptorName': StringElement('Concept Formation', attributes={'UI': 'D003210', 'MajorTopicYN': 'N'})}, {'QualifierName': [], 'DescriptorName': StringElement('Emotions', attributes={'UI': 'D004644', 'MajorTopicYN': 'N'})}, {'QualifierName': [], 'DescriptorName': StringElement('Female', attributes={'UI': 'D005260', 'MajorTopicYN': 'N'})}, {'QualifierName': [StringElement('psychology', attributes={'UI': 'Q000523', 'MajorTopicYN': 'Y'})], 'DescriptorName': StringElement('Fever', attributes={'UI': 'D005334', 'MajorTopicYN': 'N'})}, {'QualifierName': [], 'DescriptorName': StringElement('Focus Groups', attributes={'UI': 'D017144', 'MajorTopicYN': 'N'})}, {'QualifierName': [], 'DescriptorName': StringElement('Grounded Theory', attributes={'UI': 'D066296', 'MajorTopicYN': 'N'})}, {'QualifierName': [], 'DescriptorName': StringElement('Health Education', attributes={'UI': 'D006266', 'MajorTopicYN': 'N'})}, {'QualifierName': [], 'DescriptorName': StringElement('Health Knowledge, Attitudes, Practice', attributes={'UI': 'D007722', 'MajorTopicYN': 'N'})}, {'QualifierName': [], 'DescriptorName': StringElement('Humans', attributes={'UI': 'D006801', 'MajorTopicYN': 'N'})}, {'QualifierName': [], 'DescriptorName': StringElement('Infant', attributes={'UI': 'D007223', 'MajorTopicYN': 'N'})}, {'QualifierName': [], 'DescriptorName': StringElement('Infant, Newborn', attributes={'UI': 'D007231', 'MajorTopicYN': 'N'})}, {'QualifierName': [], 'DescriptorName': StringElement('Male', attributes={'UI': 'D008297', 'MajorTopicYN': 'N'})}, {'QualifierName': [StringElement('education', attributes={'UI': 'Q000193', 'MajorTopicYN': 'N'}), StringElement('psychology', attributes={'UI': 'Q000523', 'MajorTopicYN': 'Y'})], 'DescriptorName': StringElement('Parents', attributes={'UI': 'D010290', 'MajorTopicYN': 'N'})}, {'QualifierName': [], 'DescriptorName': StringElement('Qualitative Research', attributes={'UI': 'D036301', 'MajorTopicYN': 'N'})}]}, attributes={'Status': 'MEDLINE', 'IndexingMethod': 'Curated', 'Owner': 'NLM'}), 'PubmedData': {'ReferenceList': [], 'History': [DictElement({'Year': '2019', 'Month': '07', 'Day': '12'}, attributes={'PubStatus': 'received'}), DictElement({'Year': '2019', 'Month': '08', 'Day': '13'}, attributes={'PubStatus': 'revised'}), DictElement({'Year': '2019', 'Month': '08', 'Day': '14'}, attributes={'PubStatus': 'accepted'}), DictElement({'Year': '2019', 'Month': '8', 'Day': '21', 'Hour': '6', 'Minute': '0'}, attributes={'PubStatus': 'entrez'}), DictElement({'Year': '2019', 'Month': '8', 'Day': '21', 'Hour': '6', 'Minute': '0'}, attributes={'PubStatus': 'pubmed'}), DictElement({'Year': '2020', 'Month': '1', 'Day': '4', 'Hour': '6', 'Minute': '0'}, attributes={'PubStatus': 'medline'})], 'PublicationStatus': 'epublish', 'ArticleIdList': [StringElement('31426408', attributes={'IdType': 'pubmed'}), StringElement('ijerph16162959', attributes={'IdType': 'pii'}), StringElement('10.3390/ijerph16162959', attributes={'IdType': 'doi'}), StringElement('PMC6720744', attributes={'IdType': 'pmc'})]}}, {'MedlineCitation': DictElement({'OtherID': [], 'KeywordList': [ListElement([StringElement('cancerous fever', attributes={'MajorTopicYN': 'N'}), StringElement('grey screening method', attributes={'MajorTopicYN': 'N'}), StringElement('multivariate analysis method', attributes={'MajorTopicYN': 'N'}), StringElement('treatment based on syndrome differentiation', attributes={'MajorTopicYN': 'N'})], attributes={'Owner': 'NOTNLM'})], 'OtherAbstract': [], 'CitationSubset': ['IM'], 'SpaceFlightMission': [], 'GeneralNote': [], 'PMID': StringElement('31359700', attributes={'Version': '1'}), 'DateCompleted': {'Year': '2019', 'Month': '09', 'Day': '24'}, 'DateRevised': {'Year': '2019', 'Month': '09', 'Day': '25'}, 'Article': DictElement({'ELocationID': [StringElement('10.19540/j.cnki.cjcmm.20190514.501', attributes={'EIdType': 'doi', 'ValidYN': 'Y'})], 'Language': ['chi'], 'ArticleDate': [], 'Journal': {'ISSN': StringElement('1001-5302', attributes={'IssnType': 'Print'}), 'JournalIssue': DictElement({'Volume': '44', 'Issue': '13', 'PubDate': {'Year': '2019', 'Month': 'Jul'}}, attributes={'CitedMedium': 'Print'}), 'Title': 'Zhongguo Zhong yao za zhi = Zhongguo zhongyao zazhi = China journal of Chinese materia medica', 'ISOAbbreviation': 'Zhongguo Zhong Yao Za Zhi'}, 'ArticleTitle': '[Analysis on traditional Chinese medicine prescriptions treating cancerous fever based on grey screening method combined with multivariate analysis method and discovery of new prescriptions].', 'Pagination': {'MedlinePgn': '2849-2857'}, 'Abstract': {'AbstractText': ['Cancerous fever is one of the common symptoms of advanced malignant tumors,which seriously affects the quality of life and survival of patients. At present,the clinical research on the treatment of cancerous fever by traditional Chinese medicine is limited,and there is a lack of research on the medication rules from multiple dimensions of disease-symptom-syndrome. The treatment of cancerous fever has not made substantial progress. In this study,we collected the literature on treatment of cancerous fever in Chinese medicine,and concluded that common syndrome types include Yin deficiency type,Qi deficiency type,Yang deficiency type,blood stasis type,damp-heat accumulation type,toxic heat flourishing type and liver meridian stagnated heat type. Two hundreds and fifty-seven prescriptions for Chinese medicine and 249 flavors for single medicine were extracted. The analysis of the drug composition of the drug found that the cancerous fever treatment was mainly based on heat-clearing drugs and deficiency-nourishing drugs. Apriori association analysis of the drug found that the second and third related drugs were mainly Rehmanniae Radix,Moutan Cortex,Artemisiae Annuae Herba,Trionycis Carapax and Anemarrhenae Rhizoma. The top five gray correlation degrees were Psoraleae Fructus,Bupleuri Radix,Hordei Fructus Germinatus,Scutellariae Radix and Massa Medicata Fermentata. And seven new prescriptions were evolved. The results showed that the treatment of cancerous fever can be started from the disease-symptom-syndrome,nourishing Yin and clearing heat is an important method for \" disease differentiation and treatment\". The combination of Bupleuri Radix and Scutellariae Radix is the embodiment of \" symptom differentiation and treatment\". The new prescriptions conform to the idea of \" syndrome differentiation and treatment\" of traditional Chinese medicine can provide reference for clinical medication. The grey screening method combined with multivariate analysis method was used to analyze the prescription rules of Chinese medicine in the treatment of cancer fever,which followed the black box structure of traditional Chinese medicine,made the potential rule of prescriptions explicit,broadened its thinking of Chinese medicine treatment,and made up for the deficiency of traditional analysis methods.']}, 'AuthorList': ListElement([DictElement({'AffiliationInfo': [{'Identifier': [], 'Affiliation': 'the First Clinical Medical College of Zhejiang Chinese Medical University Hangzhou 310053,China.'}], 'Identifier': [], 'LastName': 'Lin', 'ForeName': 'Zhi-Xian', 'Initials': 'ZX'}, attributes={'ValidYN': 'Y'}), DictElement({'AffiliationInfo': [{'Identifier': [], 'Affiliation': 'the First Clinical Medical College of Zhejiang Chinese Medical University Hangzhou 310053,China.'}], 'Identifier': [], 'LastName': 'Chen', 'ForeName': 'Jiang-Feng', 'Initials': 'JF'}, attributes={'ValidYN': 'Y'}), DictElement({'AffiliationInfo': [{'Identifier': [], 'Affiliation': 'Department of Oncology,the First Affiliated Hospital of Zhejiang Chinese Medical University Hangzhou 310006,China.'}], 'Identifier': [], 'LastName': 'Guo', 'ForeName': 'Yong', 'Initials': 'Y'}, attributes={'ValidYN': 'Y'})], attributes={'CompleteYN': 'Y'}), 'PublicationTypeList': [StringElement('Journal Article', attributes={'UI': 'D016428'})]}, attributes={'PubModel': 'Print'}), 'MedlineJournalInfo': {'Country': 'China', 'MedlineTA': 'Zhongguo Zhong Yao Za Zhi', 'NlmUniqueID': '8913656', 'ISSNLinking': '1001-5302'}, 'ChemicalList': [{'RegistryNumber': '0', 'NameOfSubstance': StringElement('Drugs, Chinese Herbal', attributes={'UI': 'D004365'})}], 'MeshHeadingList': [{'QualifierName': [StringElement('therapeutic use', attributes={'UI': 'Q000627', 'MajorTopicYN': 'Y'})], 'DescriptorName': StringElement('Drugs, Chinese Herbal', attributes={'UI': 'D004365', 'MajorTopicYN': 'N'})}, {'QualifierName': [StringElement('drug therapy', attributes={'UI': 'Q000188', 'MajorTopicYN': 'Y'}), StringElement('etiology', attributes={'UI': 'Q000209', 'MajorTopicYN': 'N'})], 'DescriptorName': StringElement('Fever', attributes={'UI': 'D005334', 'MajorTopicYN': 'N'})}, {'QualifierName': [], 'DescriptorName': StringElement('Humans', attributes={'UI': 'D006801', 'MajorTopicYN': 'N'})}, {'QualifierName': [], 'DescriptorName': StringElement('Medicine, Chinese Traditional', attributes={'UI': 'D008516', 'MajorTopicYN': 'N'})}, {'QualifierName': [], 'DescriptorName': StringElement('Meridians', attributes={'UI': 'D016740', 'MajorTopicYN': 'N'})}, {'QualifierName': [], 'DescriptorName': StringElement('Multivariate Analysis', attributes={'UI': 'D015999', 'MajorTopicYN': 'N'})}, {'QualifierName': [StringElement('complications', attributes={'UI': 'Q000150', 'MajorTopicYN': 'N'}), StringElement('drug therapy', attributes={'UI': 'Q000188', 'MajorTopicYN': 'Y'})], 'DescriptorName': StringElement('Neoplasms', attributes={'UI': 'D009369', 'MajorTopicYN': 'N'})}, {'QualifierName': [], 'DescriptorName': StringElement('Quality of Life', attributes={'UI': 'D011788', 'MajorTopicYN': 'N'})}]}, attributes={'Status': 'MEDLINE', 'IndexingMethod': 'Curated', 'Owner': 'NLM'}), 'PubmedData': {'ReferenceList': [], 'History': [DictElement({'Year': '2019', 'Month': '7', 'Day': '31', 'Hour': '6', 'Minute': '0'}, attributes={'PubStatus': 'entrez'}), DictElement({'Year': '2019', 'Month': '7', 'Day': '31', 'Hour': '6', 'Minute': '0'}, attributes={'PubStatus': 'pubmed'}), DictElement({'Year': '2019', 'Month': '9', 'Day': '26', 'Hour': '6', 'Minute': '0'}, attributes={'PubStatus': 'medline'})], 'PublicationStatus': 'ppublish', 'ArticleIdList': [StringElement('31359700', attributes={'IdType': 'pubmed'}), StringElement('10.19540/j.cnki.cjcmm.20190514.501', attributes={'IdType': 'doi'})]}}, {'MedlineCitation': DictElement({'OtherID': [], 'KeywordList': [ListElement([StringElement('antipyretics', attributes={'MajorTopicYN': 'N'}), StringElement('fever in children', attributes={'MajorTopicYN': 'N'}), StringElement('fever phobia', attributes={'MajorTopicYN': 'N'}), StringElement('healthcare-seeking behavior', attributes={'MajorTopicYN': 'N'}), StringElement('parental beliefs', attributes={'MajorTopicYN': 'N'})], attributes={'Owner': 'NOTNLM'})], 'OtherAbstract': [], 'CitationSubset': ['IM'], 'SpaceFlightMission': [], 'GeneralNote': [], 'PMID': StringElement('31336677', attributes={'Version': '1'}), 'DateCompleted': {'Year': '2020', 'Month': '01', 'Day': '02'}, 'DateRevised': {'Year': '2020', 'Month': '01', 'Day': '02'}, 'Article': DictElement({'ELocationID': [StringElement('E398', attributes={'EIdType': 'pii', 'ValidYN': 'Y'}), StringElement('10.3390/medicina55070398', attributes={'EIdType': 'doi', 'ValidYN': 'Y'})], 'Language': ['eng'], 'ArticleDate': [DictElement({'Year': '2019', 'Month': '07', 'Day': '22'}, attributes={'DateType': 'Electronic'})], 'Journal': {'ISSN': StringElement('1648-9144', attributes={'IssnType': 'Electronic'}), 'JournalIssue': DictElement({'Volume': '55', 'Issue': '7', 'PubDate': {'Year': '2019', 'Month': 'Jul', 'Day': '22'}}, attributes={'CitedMedium': 'Internet'}), 'Title': 'Medicina (Kaunas, Lithuania)', 'ISOAbbreviation': 'Medicina (Kaunas)'}, 'ArticleTitle': 'Beliefs, Practices and Health Care Seeking Behavior of Parents Regarding Fever in Children.', 'Abstract': {'AbstractText': [\"<i>Background and objectives:</i> Fever in children is one of the most common reasons for seeking medical attention. Parents often have misconceptions about the effects to fever, which leads to inappropriate use of medication and nonurgent visits to emergency departments (ED). The aim of this study was to clarify the beliefs on the effects and management of fever and to identify healthcare seeking patterns among parents of febrile children in Latvia. <i>Materials and Methods:</i> Parents and legal guardians of children attending ED with febrile illness were included in the study. Participants were recruited in Children's Clinical University Hospital (CCUH) in Riga, and in six regional hospitals in Latvia. Data on beliefs about fever, administration of antipyretics, healthcare-seeking behavior, and experience in communication with health care workers were collected via questionnaire. <i>Results</i><i>:</i> In total, 355 participants were enrolled: 199 in CCUH and 156 in regional hospitals; 59.2% of participants considered fever itself as indicative of serious illness and 92.8% believed it could raise the child's body temperature up to a dangerous level. Antipyretics were usually administered at median temperature of 38.0 °C, and the median temperature believed to be dangerous was 39.7 °C; 56.7% of parents usually contacted a doctor within the first 24 h of the illness. Parents who believed that lower temperatures are dangerous to a child were more likely to contact a doctor earlier and out-of-hours; 60.1% of participants had contacted their family doctor prior their visit to ED. Parental evaluation of satisfaction with the information and reassurance provided by the doctors at the hospital was higher than of that provided by their family doctor; 68.2% of participants felt safer when their febrile children were treated at the hospital. <i>Conclusions:</i> Fever itself was regarded as indicative of serious illness and potentially dangerous to the child's life. These misconceptions lead to inappropriate administration of antipyretics and early-seeking of medical attention, even out-of-hours. Hospital environment was viewed as safer and more reassuring when dealing with febrile illness in children. More emphasis must be placed on parental education on proper management of fever, especially in primary care.\"]}, 'AuthorList': ListElement([DictElement({'AffiliationInfo': [{'Identifier': [], 'Affiliation': 'Department of Pediatrics, Riga Stradins University, Vienibas gatve 45, LV-1004 Riga, Latvia. urzula.urbane@rsu.lv.'}, {'Identifier': [], 'Affiliation': \"Department of Pediatrics, Children's Clinical University hospital, Vienibas gatve 45, LV-1004 Riga, Latvia. urzula.urbane@rsu.lv.\"}], 'Identifier': [], 'LastName': 'Urbane', 'ForeName': 'Urzula Nora', 'Initials': 'UN'}, attributes={'ValidYN': 'Y'}), DictElement({'AffiliationInfo': [{'Identifier': [], 'Affiliation': \"Department of Pediatrics, Children's Clinical University hospital, Vienibas gatve 45, LV-1004 Riga, Latvia.\"}], 'Identifier': [], 'LastName': 'Likopa', 'ForeName': 'Zane', 'Initials': 'Z'}, attributes={'ValidYN': 'Y'}), DictElement({'AffiliationInfo': [{'Identifier': [], 'Affiliation': 'Department of Pediatrics, Riga Stradins University, Vienibas gatve 45, LV-1004 Riga, Latvia.'}, {'Identifier': [], 'Affiliation': \"Department of Pediatrics, Children's Clinical University hospital, Vienibas gatve 45, LV-1004 Riga, Latvia.\"}], 'Identifier': [], 'LastName': 'Gardovska', 'ForeName': 'Dace', 'Initials': 'D'}, attributes={'ValidYN': 'Y'}), DictElement({'AffiliationInfo': [{'Identifier': [], 'Affiliation': 'Department of Pediatrics, Riga Stradins University, Vienibas gatve 45, LV-1004 Riga, Latvia.'}, {'Identifier': [], 'Affiliation': \"Department of Pediatrics, Children's Clinical University hospital, Vienibas gatve 45, LV-1004 Riga, Latvia.\"}], 'Identifier': [], 'LastName': 'Pavare', 'ForeName': 'Jana', 'Initials': 'J'}, attributes={'ValidYN': 'Y'})], attributes={'CompleteYN': 'Y'}), 'PublicationTypeList': [StringElement('Journal Article', attributes={'UI': 'D016428'})]}, attributes={'PubModel': 'Electronic'}), 'MedlineJournalInfo': {'Country': 'Switzerland', 'MedlineTA': 'Medicina (Kaunas)', 'NlmUniqueID': '9425208', 'ISSNLinking': '1010-660X'}, 'ChemicalList': [{'RegistryNumber': '0', 'NameOfSubstance': StringElement('Antipyretics', attributes={'UI': 'D058633'})}], 'MeshHeadingList': [{'QualifierName': [], 'DescriptorName': StringElement('Adult', attributes={'UI': 'D000328', 'MajorTopicYN': 'N'})}, {'QualifierName': [StringElement('standards', attributes={'UI': 'Q000592', 'MajorTopicYN': 'N'}), StringElement('therapeutic use', attributes={'UI': 'Q000627', 'MajorTopicYN': 'N'})], 'DescriptorName': StringElement('Antipyretics', attributes={'UI': 'D058633', 'MajorTopicYN': 'N'})}, {'QualifierName': [], 'DescriptorName': StringElement('Child', attributes={'UI': 'D002648', 'MajorTopicYN': 'N'})}, {'QualifierName': [], 'DescriptorName': StringElement('Child, Preschool', attributes={'UI': 'D002675', 'MajorTopicYN': 'N'})}, {'QualifierName': [], 'DescriptorName': StringElement('Cross-Sectional Studies', attributes={'UI': 'D003430', 'MajorTopicYN': 'N'})}, {'QualifierName': [], 'DescriptorName': StringElement('Female', attributes={'UI': 'D005260', 'MajorTopicYN': 'N'})}, {'QualifierName': [StringElement('psychology', attributes={'UI': 'Q000523', 'MajorTopicYN': 'N'}), StringElement('therapy', attributes={'UI': 'Q000628', 'MajorTopicYN': 'Y'})], 'DescriptorName': StringElement('Fever', attributes={'UI': 'D005334', 'MajorTopicYN': 'N'})}, {'QualifierName': [], 'DescriptorName': StringElement('Health Knowledge, Attitudes, Practice', attributes={'UI': 'D007722', 'MajorTopicYN': 'Y'})}, {'QualifierName': [], 'DescriptorName': StringElement('Help-Seeking Behavior', attributes={'UI': 'D000066505', 'MajorTopicYN': 'Y'})}, {'QualifierName': [], 'DescriptorName': StringElement('Humans', attributes={'UI': 'D006801', 'MajorTopicYN': 'N'})}, {'QualifierName': [], 'DescriptorName': StringElement('Infant', attributes={'UI': 'D007223', 'MajorTopicYN': 'N'})}, {'QualifierName': [], 'DescriptorName': StringElement('Latvia', attributes={'UI': 'D007844', 'MajorTopicYN': 'N', 'Type': 'Geographic'})}, {'QualifierName': [], 'DescriptorName': StringElement('Male', attributes={'UI': 'D008297', 'MajorTopicYN': 'N'})}, {'QualifierName': [], 'DescriptorName': StringElement('Middle Aged', attributes={'UI': 'D008875', 'MajorTopicYN': 'N'})}, {'QualifierName': [StringElement('psychology', attributes={'UI': 'Q000523', 'MajorTopicYN': 'Y'})], 'DescriptorName': StringElement('Parents', attributes={'UI': 'D010290', 'MajorTopicYN': 'N'})}, {'QualifierName': [], 'DescriptorName': StringElement('Surveys and Questionnaires', attributes={'UI': 'D011795', 'MajorTopicYN': 'N'})}], 'CoiStatement': 'The authors declare no conflicts of interest.'}, attributes={'Status': 'MEDLINE', 'Owner': 'NLM'}), 'PubmedData': {'ReferenceList': [], 'History': [DictElement({'Year': '2019', 'Month': '06', 'Day': '25'}, attributes={'PubStatus': 'received'}), DictElement({'Year': '2019', 'Month': '07', 'Day': '18'}, attributes={'PubStatus': 'revised'}), DictElement({'Year': '2019', 'Month': '07', 'Day': '19'}, attributes={'PubStatus': 'accepted'}), DictElement({'Year': '2019', 'Month': '7', 'Day': '25', 'Hour': '6', 'Minute': '0'}, attributes={'PubStatus': 'entrez'}), DictElement({'Year': '2019', 'Month': '7', 'Day': '25', 'Hour': '6', 'Minute': '0'}, attributes={'PubStatus': 'pubmed'}), DictElement({'Year': '2020', 'Month': '1', 'Day': '3', 'Hour': '6', 'Minute': '0'}, attributes={'PubStatus': 'medline'})], 'PublicationStatus': 'epublish', 'ArticleIdList': [StringElement('31336677', attributes={'IdType': 'pubmed'}), StringElement('medicina55070398', attributes={'IdType': 'pii'}), StringElement('10.3390/medicina55070398', attributes={'IdType': 'doi'}), StringElement('PMC6681325', attributes={'IdType': 'pmc'})]}}, {'MedlineCitation': DictElement({'OtherID': [], 'KeywordList': [ListElement([StringElement('Empiric therapy of fever and neutropenia', attributes={'MajorTopicYN': 'Y'}), StringElement('Evaluation of fever and neutropenia', attributes={'MajorTopicYN': 'Y'}), StringElement('Fungal antigen testing', attributes={'MajorTopicYN': 'Y'}), StringElement('Typhlitis', attributes={'MajorTopicYN': 'Y'})], attributes={'Owner': 'NOTNLM'})], 'OtherAbstract': [], 'CitationSubset': ['IM'], 'SpaceFlightMission': [], 'GeneralNote': [], 'PMID': StringElement('31005134', attributes={'Version': '1'}), 'DateCompleted': {'Year': '2019', 'Month': '12', 'Day': '11'}, 'DateRevised': {'Year': '2019', 'Month': '12', 'Day': '17'}, 'Article': DictElement({'ELocationID': [StringElement('S0891-5520(19)30006-6', attributes={'EIdType': 'pii', 'ValidYN': 'Y'}), StringElement('10.1016/j.idc.2019.02.003', attributes={'EIdType': 'doi', 'ValidYN': 'Y'})], 'Language': ['eng'], 'ArticleDate': [], 'Journal': {'ISSN': StringElement('1557-9824', attributes={'IssnType': 'Electronic'}), 'JournalIssue': DictElement({'Volume': '33', 'Issue': '2', 'PubDate': {'Year': '2019', 'Month': '06'}}, attributes={'CitedMedium': 'Internet'}), 'Title': 'Infectious disease clinics of North America', 'ISOAbbreviation': 'Infect. Dis. Clin. North Am.'}, 'ArticleTitle': 'Work-up for Fever During Neutropenia for Both the Stem Cell Transplant Recipient and the Hematologic Malignancy Patient.', 'Pagination': {'MedlinePgn': '381-397'}, 'Abstract': {'AbstractText': ['Fever is a common complication in patients with underlying neutropenia and is associated with significant mortality in neutropenic patients with acute myelogenous leukemia or hematopoietic cell transplant. Fever may be the only sign of infection and requires further clinical assessment, including a history, a physical examination, and additional laboratory and radiographic testing. National and international guidelines recommend initiation of empiric antimicrobial therapy in patients with fever during neutropenia. Stepwise escalation of antibacterial therapy, followed by antifungal therapy for patients with persistent fever, generally is recommended. Consideration should also be given to de-escalation of antimicrobial therapy in the appropriate clinical settings.'], 'CopyrightInformation': 'Copyright © 2019 Elsevier Inc. All rights reserved.'}, 'AuthorList': ListElement([DictElement({'AffiliationInfo': [{'Identifier': [], 'Affiliation': 'Division of Infectious Diseases, Vanderbilt University Medical Center, A2200 MCN, 1161 21st Avenue South, Nashville, TN 37232-2605, USA. Electronic address: gowri.satyanarayana@vumc.org.'}], 'Identifier': [], 'LastName': 'Satyanarayana', 'ForeName': 'Gowri', 'Initials': 'G'}, attributes={'ValidYN': 'Y'})], attributes={'CompleteYN': 'Y'}), 'PublicationTypeList': [StringElement('Journal Article', attributes={'UI': 'D016428'})]}, attributes={'PubModel': 'Print'}), 'MedlineJournalInfo': {'Country': 'United States', 'MedlineTA': 'Infect Dis Clin North Am', 'NlmUniqueID': '8804508', 'ISSNLinking': '0891-5520'}, 'ChemicalList': [{'RegistryNumber': '0', 'NameOfSubstance': StringElement('Anti-Bacterial Agents', attributes={'UI': 'D000900'})}, {'RegistryNumber': '0', 'NameOfSubstance': StringElement('Antifungal Agents', attributes={'UI': 'D000935'})}], 'MeshHeadingList': [{'QualifierName': [], 'DescriptorName': StringElement('Algorithms', attributes={'UI': 'D000465', 'MajorTopicYN': 'N'})}, {'QualifierName': [StringElement('therapeutic use', attributes={'UI': 'Q000627', 'MajorTopicYN': 'N'})], 'DescriptorName': StringElement('Anti-Bacterial Agents', attributes={'UI': 'D000900', 'MajorTopicYN': 'N'})}, {'QualifierName': [StringElement('therapeutic use', attributes={'UI': 'Q000627', 'MajorTopicYN': 'N'})], 'DescriptorName': StringElement('Antifungal Agents', attributes={'UI': 'D000935', 'MajorTopicYN': 'N'})}, {'QualifierName': [StringElement('diagnosis', attributes={'UI': 'Q000175', 'MajorTopicYN': 'N'}), StringElement('drug therapy', attributes={'UI': 'Q000188', 'MajorTopicYN': 'N'})], 'DescriptorName': StringElement('Bacterial Infections', attributes={'UI': 'D001424', 'MajorTopicYN': 'N'})}, {'QualifierName': [StringElement('microbiology', attributes={'UI': 'Q000382', 'MajorTopicYN': 'Y'}), StringElement('mortality', attributes={'UI': 'Q000401', 'MajorTopicYN': 'N'})], 'DescriptorName': StringElement('Fever', attributes={'UI': 'D005334', 'MajorTopicYN': 'N'})}, {'QualifierName': [StringElement('complications', attributes={'UI': 'Q000150', 'MajorTopicYN': 'Y'})], 'DescriptorName': StringElement('Hematologic Neoplasms', attributes={'UI': 'D019337', 'MajorTopicYN': 'N'})}, {'QualifierName': [StringElement('adverse effects', attributes={'UI': 'Q000009', 'MajorTopicYN': 'Y'})], 'DescriptorName': StringElement('Hematopoietic Stem Cell Transplantation', attributes={'UI': 'D018380', 'MajorTopicYN': 'N'})}, {'QualifierName': [], 'DescriptorName': StringElement('Humans', attributes={'UI': 'D006801', 'MajorTopicYN': 'N'})}, {'QualifierName': [StringElement('diagnosis', attributes={'UI': 'Q000175', 'MajorTopicYN': 'N'}), StringElement('drug therapy', attributes={'UI': 'Q000188', 'MajorTopicYN': 'N'})], 'DescriptorName': StringElement('Mycoses', attributes={'UI': 'D009181', 'MajorTopicYN': 'N'})}, {'QualifierName': [StringElement('microbiology', attributes={'UI': 'Q000382', 'MajorTopicYN': 'Y'})], 'DescriptorName': StringElement('Neutropenia', attributes={'UI': 'D009503', 'MajorTopicYN': 'N'})}, {'QualifierName': [], 'DescriptorName': StringElement('Risk Factors', attributes={'UI': 'D012307', 'MajorTopicYN': 'N'})}]}, attributes={'Status': 'MEDLINE', 'Owner': 'NLM'}), 'PubmedData': {'ReferenceList': [], 'History': [DictElement({'Year': '2019', 'Month': '4', 'Day': '22', 'Hour': '6', 'Minute': '0'}, attributes={'PubStatus': 'entrez'}), DictElement({'Year': '2019', 'Month': '4', 'Day': '22', 'Hour': '6', 'Minute': '0'}, attributes={'PubStatus': 'pubmed'}), DictElement({'Year': '2019', 'Month': '12', 'Day': '18', 'Hour': '6', 'Minute': '0'}, attributes={'PubStatus': 'medline'})], 'PublicationStatus': 'ppublish', 'ArticleIdList': [StringElement('31005134', attributes={'IdType': 'pubmed'}), StringElement('S0891-5520(19)30006-6', attributes={'IdType': 'pii'}), StringElement('10.1016/j.idc.2019.02.003', attributes={'IdType': 'doi'})]}}]}"
      ]
     },
     "execution_count": 80,
     "metadata": {},
     "output_type": "execute_result"
    }
   ],
   "source": [
    "results = search('fever')\n",
    "pmids = results['IdList']\n",
    "records = fetch_details(id_list)\n",
    "records"
   ]
  },
  {
   "cell_type": "code",
   "execution_count": 81,
   "metadata": {},
   "outputs": [],
   "source": [
    "abstract_dict = {}\n",
    "without_abstract = []\n",
    "\n",
    "for pubmed_article in records['PubmedArticle']:\n",
    "    pmid = int(str(pubmed_article['MedlineCitation']['PMID']))\n",
    "    article = pubmed_article['MedlineCitation']['Article']\n",
    "   # mesh = pubmed_article['MedlineCitation']['MeshHeadingList']\n",
    "    if 'Abstract' in article:\n",
    "        abstract = article['Abstract']['AbstractText'][0]\n",
    "        abstract_dict[pmid] = abstract\n",
    "    else:\n",
    "       without_abstract.append(pmid)\n",
    "\n",
    "#print(abstract_dict)"
   ]
  },
  {
   "cell_type": "code",
   "execution_count": 87,
   "metadata": {},
   "outputs": [
    {
     "name": "stdout",
     "output_type": "stream",
     "text": [
      "[{'QualifierName': [StringElement('therapeutic use', attributes={'UI': 'Q000627', 'MajorTopicYN': 'Y'})], 'DescriptorName': StringElement('Anti-Bacterial Agents', attributes={'UI': 'D000900', 'MajorTopicYN': 'N'})}, {'QualifierName': [], 'DescriptorName': StringElement('Antimicrobial Stewardship', attributes={'UI': 'D000073602', 'MajorTopicYN': 'N'})}, {'QualifierName': [StringElement('drug effects', attributes={'UI': 'Q000187', 'MajorTopicYN': 'Y'})], 'DescriptorName': StringElement('Body Temperature Regulation', attributes={'UI': 'D001833', 'MajorTopicYN': 'N'})}, {'QualifierName': [], 'DescriptorName': StringElement('Female', attributes={'UI': 'D005260', 'MajorTopicYN': 'N'})}, {'QualifierName': [StringElement('drug therapy', attributes={'UI': 'Q000188', 'MajorTopicYN': 'Y'}), StringElement('microbiology', attributes={'UI': 'Q000382', 'MajorTopicYN': 'N'}), StringElement('physiopathology', attributes={'UI': 'Q000503', 'MajorTopicYN': 'N'})], 'DescriptorName': StringElement('Fever', attributes={'UI': 'D005334', 'MajorTopicYN': 'N'})}, {'QualifierName': [], 'DescriptorName': StringElement('Humans', attributes={'UI': 'D006801', 'MajorTopicYN': 'N'})}, {'QualifierName': [], 'DescriptorName': StringElement('Inappropriate Prescribing', attributes={'UI': 'D057970', 'MajorTopicYN': 'Y'})}, {'QualifierName': [], 'DescriptorName': StringElement('Length of Stay', attributes={'UI': 'D007902', 'MajorTopicYN': 'N'})}, {'QualifierName': [], 'DescriptorName': StringElement('Male', attributes={'UI': 'D008297', 'MajorTopicYN': 'N'})}, {'QualifierName': [], 'DescriptorName': StringElement('Middle Aged', attributes={'UI': 'D008875', 'MajorTopicYN': 'N'})}, {'QualifierName': [], 'DescriptorName': StringElement('Retrospective Studies', attributes={'UI': 'D012189', 'MajorTopicYN': 'N'})}, {'QualifierName': [], 'DescriptorName': StringElement('Risk Assessment', attributes={'UI': 'D018570', 'MajorTopicYN': 'N'})}, {'QualifierName': [], 'DescriptorName': StringElement('Risk Factors', attributes={'UI': 'D012307', 'MajorTopicYN': 'N'})}, {'QualifierName': [StringElement('complications', attributes={'UI': 'Q000150', 'MajorTopicYN': 'Y'})], 'DescriptorName': StringElement('Subarachnoid Hemorrhage', attributes={'UI': 'D013345', 'MajorTopicYN': 'N'})}, {'QualifierName': [], 'DescriptorName': StringElement('Time Factors', attributes={'UI': 'D013997', 'MajorTopicYN': 'N'})}, {'QualifierName': [], 'DescriptorName': StringElement('Treatment Outcome', attributes={'UI': 'D016896', 'MajorTopicYN': 'N'})}]\n",
      "[{'QualifierName': [], 'DescriptorName': StringElement('Adult', attributes={'UI': 'D000328', 'MajorTopicYN': 'N'})}, {'QualifierName': [], 'DescriptorName': StringElement('Child', attributes={'UI': 'D002648', 'MajorTopicYN': 'N'})}, {'QualifierName': [], 'DescriptorName': StringElement('Child, Preschool', attributes={'UI': 'D002675', 'MajorTopicYN': 'N'})}, {'QualifierName': [], 'DescriptorName': StringElement('Concept Formation', attributes={'UI': 'D003210', 'MajorTopicYN': 'N'})}, {'QualifierName': [], 'DescriptorName': StringElement('Emotions', attributes={'UI': 'D004644', 'MajorTopicYN': 'N'})}, {'QualifierName': [], 'DescriptorName': StringElement('Female', attributes={'UI': 'D005260', 'MajorTopicYN': 'N'})}, {'QualifierName': [StringElement('psychology', attributes={'UI': 'Q000523', 'MajorTopicYN': 'Y'})], 'DescriptorName': StringElement('Fever', attributes={'UI': 'D005334', 'MajorTopicYN': 'N'})}, {'QualifierName': [], 'DescriptorName': StringElement('Focus Groups', attributes={'UI': 'D017144', 'MajorTopicYN': 'N'})}, {'QualifierName': [], 'DescriptorName': StringElement('Grounded Theory', attributes={'UI': 'D066296', 'MajorTopicYN': 'N'})}, {'QualifierName': [], 'DescriptorName': StringElement('Health Education', attributes={'UI': 'D006266', 'MajorTopicYN': 'N'})}, {'QualifierName': [], 'DescriptorName': StringElement('Health Knowledge, Attitudes, Practice', attributes={'UI': 'D007722', 'MajorTopicYN': 'N'})}, {'QualifierName': [], 'DescriptorName': StringElement('Humans', attributes={'UI': 'D006801', 'MajorTopicYN': 'N'})}, {'QualifierName': [], 'DescriptorName': StringElement('Infant', attributes={'UI': 'D007223', 'MajorTopicYN': 'N'})}, {'QualifierName': [], 'DescriptorName': StringElement('Infant, Newborn', attributes={'UI': 'D007231', 'MajorTopicYN': 'N'})}, {'QualifierName': [], 'DescriptorName': StringElement('Male', attributes={'UI': 'D008297', 'MajorTopicYN': 'N'})}, {'QualifierName': [StringElement('education', attributes={'UI': 'Q000193', 'MajorTopicYN': 'N'}), StringElement('psychology', attributes={'UI': 'Q000523', 'MajorTopicYN': 'Y'})], 'DescriptorName': StringElement('Parents', attributes={'UI': 'D010290', 'MajorTopicYN': 'N'})}, {'QualifierName': [], 'DescriptorName': StringElement('Qualitative Research', attributes={'UI': 'D036301', 'MajorTopicYN': 'N'})}]\n",
      "[{'QualifierName': [StringElement('therapeutic use', attributes={'UI': 'Q000627', 'MajorTopicYN': 'Y'})], 'DescriptorName': StringElement('Drugs, Chinese Herbal', attributes={'UI': 'D004365', 'MajorTopicYN': 'N'})}, {'QualifierName': [StringElement('drug therapy', attributes={'UI': 'Q000188', 'MajorTopicYN': 'Y'}), StringElement('etiology', attributes={'UI': 'Q000209', 'MajorTopicYN': 'N'})], 'DescriptorName': StringElement('Fever', attributes={'UI': 'D005334', 'MajorTopicYN': 'N'})}, {'QualifierName': [], 'DescriptorName': StringElement('Humans', attributes={'UI': 'D006801', 'MajorTopicYN': 'N'})}, {'QualifierName': [], 'DescriptorName': StringElement('Medicine, Chinese Traditional', attributes={'UI': 'D008516', 'MajorTopicYN': 'N'})}, {'QualifierName': [], 'DescriptorName': StringElement('Meridians', attributes={'UI': 'D016740', 'MajorTopicYN': 'N'})}, {'QualifierName': [], 'DescriptorName': StringElement('Multivariate Analysis', attributes={'UI': 'D015999', 'MajorTopicYN': 'N'})}, {'QualifierName': [StringElement('complications', attributes={'UI': 'Q000150', 'MajorTopicYN': 'N'}), StringElement('drug therapy', attributes={'UI': 'Q000188', 'MajorTopicYN': 'Y'})], 'DescriptorName': StringElement('Neoplasms', attributes={'UI': 'D009369', 'MajorTopicYN': 'N'})}, {'QualifierName': [], 'DescriptorName': StringElement('Quality of Life', attributes={'UI': 'D011788', 'MajorTopicYN': 'N'})}]\n",
      "[{'QualifierName': [], 'DescriptorName': StringElement('Adult', attributes={'UI': 'D000328', 'MajorTopicYN': 'N'})}, {'QualifierName': [StringElement('standards', attributes={'UI': 'Q000592', 'MajorTopicYN': 'N'}), StringElement('therapeutic use', attributes={'UI': 'Q000627', 'MajorTopicYN': 'N'})], 'DescriptorName': StringElement('Antipyretics', attributes={'UI': 'D058633', 'MajorTopicYN': 'N'})}, {'QualifierName': [], 'DescriptorName': StringElement('Child', attributes={'UI': 'D002648', 'MajorTopicYN': 'N'})}, {'QualifierName': [], 'DescriptorName': StringElement('Child, Preschool', attributes={'UI': 'D002675', 'MajorTopicYN': 'N'})}, {'QualifierName': [], 'DescriptorName': StringElement('Cross-Sectional Studies', attributes={'UI': 'D003430', 'MajorTopicYN': 'N'})}, {'QualifierName': [], 'DescriptorName': StringElement('Female', attributes={'UI': 'D005260', 'MajorTopicYN': 'N'})}, {'QualifierName': [StringElement('psychology', attributes={'UI': 'Q000523', 'MajorTopicYN': 'N'}), StringElement('therapy', attributes={'UI': 'Q000628', 'MajorTopicYN': 'Y'})], 'DescriptorName': StringElement('Fever', attributes={'UI': 'D005334', 'MajorTopicYN': 'N'})}, {'QualifierName': [], 'DescriptorName': StringElement('Health Knowledge, Attitudes, Practice', attributes={'UI': 'D007722', 'MajorTopicYN': 'Y'})}, {'QualifierName': [], 'DescriptorName': StringElement('Help-Seeking Behavior', attributes={'UI': 'D000066505', 'MajorTopicYN': 'Y'})}, {'QualifierName': [], 'DescriptorName': StringElement('Humans', attributes={'UI': 'D006801', 'MajorTopicYN': 'N'})}, {'QualifierName': [], 'DescriptorName': StringElement('Infant', attributes={'UI': 'D007223', 'MajorTopicYN': 'N'})}, {'QualifierName': [], 'DescriptorName': StringElement('Latvia', attributes={'UI': 'D007844', 'MajorTopicYN': 'N', 'Type': 'Geographic'})}, {'QualifierName': [], 'DescriptorName': StringElement('Male', attributes={'UI': 'D008297', 'MajorTopicYN': 'N'})}, {'QualifierName': [], 'DescriptorName': StringElement('Middle Aged', attributes={'UI': 'D008875', 'MajorTopicYN': 'N'})}, {'QualifierName': [StringElement('psychology', attributes={'UI': 'Q000523', 'MajorTopicYN': 'Y'})], 'DescriptorName': StringElement('Parents', attributes={'UI': 'D010290', 'MajorTopicYN': 'N'})}, {'QualifierName': [], 'DescriptorName': StringElement('Surveys and Questionnaires', attributes={'UI': 'D011795', 'MajorTopicYN': 'N'})}]\n",
      "[{'QualifierName': [], 'DescriptorName': StringElement('Algorithms', attributes={'UI': 'D000465', 'MajorTopicYN': 'N'})}, {'QualifierName': [StringElement('therapeutic use', attributes={'UI': 'Q000627', 'MajorTopicYN': 'N'})], 'DescriptorName': StringElement('Anti-Bacterial Agents', attributes={'UI': 'D000900', 'MajorTopicYN': 'N'})}, {'QualifierName': [StringElement('therapeutic use', attributes={'UI': 'Q000627', 'MajorTopicYN': 'N'})], 'DescriptorName': StringElement('Antifungal Agents', attributes={'UI': 'D000935', 'MajorTopicYN': 'N'})}, {'QualifierName': [StringElement('diagnosis', attributes={'UI': 'Q000175', 'MajorTopicYN': 'N'}), StringElement('drug therapy', attributes={'UI': 'Q000188', 'MajorTopicYN': 'N'})], 'DescriptorName': StringElement('Bacterial Infections', attributes={'UI': 'D001424', 'MajorTopicYN': 'N'})}, {'QualifierName': [StringElement('microbiology', attributes={'UI': 'Q000382', 'MajorTopicYN': 'Y'}), StringElement('mortality', attributes={'UI': 'Q000401', 'MajorTopicYN': 'N'})], 'DescriptorName': StringElement('Fever', attributes={'UI': 'D005334', 'MajorTopicYN': 'N'})}, {'QualifierName': [StringElement('complications', attributes={'UI': 'Q000150', 'MajorTopicYN': 'Y'})], 'DescriptorName': StringElement('Hematologic Neoplasms', attributes={'UI': 'D019337', 'MajorTopicYN': 'N'})}, {'QualifierName': [StringElement('adverse effects', attributes={'UI': 'Q000009', 'MajorTopicYN': 'Y'})], 'DescriptorName': StringElement('Hematopoietic Stem Cell Transplantation', attributes={'UI': 'D018380', 'MajorTopicYN': 'N'})}, {'QualifierName': [], 'DescriptorName': StringElement('Humans', attributes={'UI': 'D006801', 'MajorTopicYN': 'N'})}, {'QualifierName': [StringElement('diagnosis', attributes={'UI': 'Q000175', 'MajorTopicYN': 'N'}), StringElement('drug therapy', attributes={'UI': 'Q000188', 'MajorTopicYN': 'N'})], 'DescriptorName': StringElement('Mycoses', attributes={'UI': 'D009181', 'MajorTopicYN': 'N'})}, {'QualifierName': [StringElement('microbiology', attributes={'UI': 'Q000382', 'MajorTopicYN': 'Y'})], 'DescriptorName': StringElement('Neutropenia', attributes={'UI': 'D009503', 'MajorTopicYN': 'N'})}, {'QualifierName': [], 'DescriptorName': StringElement('Risk Factors', attributes={'UI': 'D012307', 'MajorTopicYN': 'N'})}]\n"
     ]
    }
   ],
   "source": [
    "for pubmed_article in records['PubmedArticle']:\n",
    "   # print(pubmed_article['MedlineCitation']['Article']['ArticleTitle'])\n",
    "    print(pubmed_article['MedlineCitation']['MeshHeadingList'])\n",
    "#    pmid = int(str(pubmed_article['MedlineCitation']['PMID']))\n",
    " #   article = pubmed_article['MedlineCitation']['Article']\n",
    "   # mesh = pubmed_article['MedlineCitation']['MeshHeadingList']"
   ]
  },
  {
   "cell_type": "code",
   "execution_count": 73,
   "metadata": {},
   "outputs": [
    {
     "name": "stdout",
     "output_type": "stream",
     "text": [
      "1) Fever Burden in Patients With Subarachnoid Hemorrhage and the Increased Use of Antibiotics.\n",
      "2) A Qualitative Study of Parents' Conceptualizations on Fever in Children Aged 0 to 12 Years.\n",
      "3) [Analysis on traditional Chinese medicine prescriptions treating cancerous fever based on grey screening method combined with multivariate analysis method and discovery of new prescriptions].\n",
      "4) Beliefs, Practices and Health Care Seeking Behavior of Parents Regarding Fever in Children.\n",
      "5) Work-up for Fever During Neutropenia for Both the Stem Cell Transplant Recipient and the Hematologic Malignancy Patient.\n"
     ]
    }
   ],
   "source": [
    "for i, records in enumerate(records['PubmedArticle']): \n",
    "    print(\"%d) %s\" % (i+1, records['MedlineCitation']['Article']['ArticleTitle']))"
   ]
  },
  {
   "cell_type": "code",
   "execution_count": 74,
   "metadata": {},
   "outputs": [
    {
     "data": {
      "text/html": [
       "<div>\n",
       "<style scoped>\n",
       "    .dataframe tbody tr th:only-of-type {\n",
       "        vertical-align: middle;\n",
       "    }\n",
       "\n",
       "    .dataframe tbody tr th {\n",
       "        vertical-align: top;\n",
       "    }\n",
       "\n",
       "    .dataframe thead th {\n",
       "        text-align: right;\n",
       "    }\n",
       "</style>\n",
       "<table border=\"1\" class=\"dataframe\">\n",
       "  <thead>\n",
       "    <tr style=\"text-align: right;\">\n",
       "      <th></th>\n",
       "      <th>MedlineCitation</th>\n",
       "      <th>PubmedData</th>\n",
       "    </tr>\n",
       "  </thead>\n",
       "  <tbody>\n",
       "    <tr>\n",
       "      <th>OtherID</th>\n",
       "      <td>[]</td>\n",
       "      <td>NaN</td>\n",
       "    </tr>\n",
       "    <tr>\n",
       "      <th>KeywordList</th>\n",
       "      <td>[[Empiric therapy of fever and neutropenia, Ev...</td>\n",
       "      <td>NaN</td>\n",
       "    </tr>\n",
       "    <tr>\n",
       "      <th>OtherAbstract</th>\n",
       "      <td>[]</td>\n",
       "      <td>NaN</td>\n",
       "    </tr>\n",
       "    <tr>\n",
       "      <th>CitationSubset</th>\n",
       "      <td>[IM]</td>\n",
       "      <td>NaN</td>\n",
       "    </tr>\n",
       "    <tr>\n",
       "      <th>SpaceFlightMission</th>\n",
       "      <td>[]</td>\n",
       "      <td>NaN</td>\n",
       "    </tr>\n",
       "    <tr>\n",
       "      <th>GeneralNote</th>\n",
       "      <td>[]</td>\n",
       "      <td>NaN</td>\n",
       "    </tr>\n",
       "    <tr>\n",
       "      <th>PMID</th>\n",
       "      <td>31005134</td>\n",
       "      <td>NaN</td>\n",
       "    </tr>\n",
       "    <tr>\n",
       "      <th>DateCompleted</th>\n",
       "      <td>{'Year': '2019', 'Month': '12', 'Day': '11'}</td>\n",
       "      <td>NaN</td>\n",
       "    </tr>\n",
       "    <tr>\n",
       "      <th>DateRevised</th>\n",
       "      <td>{'Year': '2019', 'Month': '12', 'Day': '17'}</td>\n",
       "      <td>NaN</td>\n",
       "    </tr>\n",
       "    <tr>\n",
       "      <th>Article</th>\n",
       "      <td>{'ELocationID': ['S0891-5520(19)30006-6', '10....</td>\n",
       "      <td>NaN</td>\n",
       "    </tr>\n",
       "    <tr>\n",
       "      <th>MedlineJournalInfo</th>\n",
       "      <td>{'Country': 'United States', 'MedlineTA': 'Inf...</td>\n",
       "      <td>NaN</td>\n",
       "    </tr>\n",
       "    <tr>\n",
       "      <th>ChemicalList</th>\n",
       "      <td>[{'RegistryNumber': '0', 'NameOfSubstance': 'A...</td>\n",
       "      <td>NaN</td>\n",
       "    </tr>\n",
       "    <tr>\n",
       "      <th>MeshHeadingList</th>\n",
       "      <td>[{'QualifierName': [], 'DescriptorName': 'Algo...</td>\n",
       "      <td>NaN</td>\n",
       "    </tr>\n",
       "    <tr>\n",
       "      <th>ReferenceList</th>\n",
       "      <td>NaN</td>\n",
       "      <td>[]</td>\n",
       "    </tr>\n",
       "    <tr>\n",
       "      <th>History</th>\n",
       "      <td>NaN</td>\n",
       "      <td>[{'Year': '2019', 'Month': '4', 'Day': '22', '...</td>\n",
       "    </tr>\n",
       "    <tr>\n",
       "      <th>PublicationStatus</th>\n",
       "      <td>NaN</td>\n",
       "      <td>ppublish</td>\n",
       "    </tr>\n",
       "    <tr>\n",
       "      <th>ArticleIdList</th>\n",
       "      <td>NaN</td>\n",
       "      <td>[31005134, S0891-5520(19)30006-6, 10.1016/j.id...</td>\n",
       "    </tr>\n",
       "  </tbody>\n",
       "</table>\n",
       "</div>"
      ],
      "text/plain": [
       "                                                      MedlineCitation  \\\n",
       "OtherID                                                            []   \n",
       "KeywordList         [[Empiric therapy of fever and neutropenia, Ev...   \n",
       "OtherAbstract                                                      []   \n",
       "CitationSubset                                                   [IM]   \n",
       "SpaceFlightMission                                                 []   \n",
       "GeneralNote                                                        []   \n",
       "PMID                                                         31005134   \n",
       "DateCompleted            {'Year': '2019', 'Month': '12', 'Day': '11'}   \n",
       "DateRevised              {'Year': '2019', 'Month': '12', 'Day': '17'}   \n",
       "Article             {'ELocationID': ['S0891-5520(19)30006-6', '10....   \n",
       "MedlineJournalInfo  {'Country': 'United States', 'MedlineTA': 'Inf...   \n",
       "ChemicalList        [{'RegistryNumber': '0', 'NameOfSubstance': 'A...   \n",
       "MeshHeadingList     [{'QualifierName': [], 'DescriptorName': 'Algo...   \n",
       "ReferenceList                                                     NaN   \n",
       "History                                                           NaN   \n",
       "PublicationStatus                                                 NaN   \n",
       "ArticleIdList                                                     NaN   \n",
       "\n",
       "                                                           PubmedData  \n",
       "OtherID                                                           NaN  \n",
       "KeywordList                                                       NaN  \n",
       "OtherAbstract                                                     NaN  \n",
       "CitationSubset                                                    NaN  \n",
       "SpaceFlightMission                                                NaN  \n",
       "GeneralNote                                                       NaN  \n",
       "PMID                                                              NaN  \n",
       "DateCompleted                                                     NaN  \n",
       "DateRevised                                                       NaN  \n",
       "Article                                                           NaN  \n",
       "MedlineJournalInfo                                                NaN  \n",
       "ChemicalList                                                      NaN  \n",
       "MeshHeadingList                                                   NaN  \n",
       "ReferenceList                                                      []  \n",
       "History             [{'Year': '2019', 'Month': '4', 'Day': '22', '...  \n",
       "PublicationStatus                                            ppublish  \n",
       "ArticleIdList       [31005134, S0891-5520(19)30006-6, 10.1016/j.id...  "
      ]
     },
     "execution_count": 74,
     "metadata": {},
     "output_type": "execute_result"
    }
   ],
   "source": [
    "test = pd.DataFrame.from_dict(records)\n",
    "test"
   ]
  },
  {
   "cell_type": "code",
   "execution_count": null,
   "metadata": {},
   "outputs": [],
   "source": []
  }
 ],
 "metadata": {
  "kernelspec": {
   "display_name": "Python 3",
   "language": "python",
   "name": "python3"
  },
  "language_info": {
   "codemirror_mode": {
    "name": "ipython",
    "version": 3
   },
   "file_extension": ".py",
   "mimetype": "text/x-python",
   "name": "python",
   "nbconvert_exporter": "python",
   "pygments_lexer": "ipython3",
   "version": "3.7.6"
  }
 },
 "nbformat": 4,
 "nbformat_minor": 2
}

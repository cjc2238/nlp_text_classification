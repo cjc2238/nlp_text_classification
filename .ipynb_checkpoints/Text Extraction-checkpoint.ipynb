{
 "cells": [
  {
   "cell_type": "code",
   "execution_count": 93,
   "metadata": {},
   "outputs": [],
   "source": [
    "import pandas as pd\n",
    "# ^^^ pyforest auto-imports - don't write above this line\n",
    "from Bio import Entrez"
   ]
  },
  {
   "cell_type": "markdown",
   "metadata": {},
   "source": [
    "# Dataset Creation"
   ]
  },
  {
   "cell_type": "code",
   "execution_count": 94,
   "metadata": {},
   "outputs": [],
   "source": [
    "def search(query):\n",
    "        Entrez.email = 'cjc2238@tc.columbia.edu'\n",
    "        handle = Entrez.esearch(db='pubmed',\n",
    "                                sort='relevance',\n",
    "                                retmax='5',\n",
    "                                retmode='xml',\n",
    "                                term=query)\n",
    "        results = Entrez.read(handle)\n",
    "        return results\n",
    "    \n",
    "def fetch_details(id_list):\n",
    "    ids = ','.join(id_list)\n",
    "    Entrez.email = 'cjc2238@tc.columbia.edu'\n",
    "    handle = Entrez.efetch(db='pubmed',\n",
    "                           retmode='xml',\n",
    "                           id=ids)\n",
    "    results = Entrez.read(handle)\n",
    "    return results"
   ]
  },
  {
   "cell_type": "code",
   "execution_count": 100,
   "metadata": {},
   "outputs": [
    {
     "data": {
      "text/plain": [
       "{'PubmedBookArticle': [], 'PubmedArticle': [{'MedlineCitation': DictElement({'OtherID': [], 'KeywordList': [], 'OtherAbstract': [], 'CitationSubset': ['AIM', 'IM'], 'SpaceFlightMission': [], 'GeneralNote': [], 'PMID': StringElement('31937572', attributes={'Version': '1'}), 'DateCompleted': {'Year': '2020', 'Month': '01', 'Day': '20'}, 'DateRevised': {'Year': '2020', 'Month': '01', 'Day': '20'}, 'Article': DictElement({'ELocationID': [StringElement('10.1136/bmj.l6791', attributes={'EIdType': 'doi', 'ValidYN': 'Y'})], 'Language': ['eng'], 'ArticleDate': [DictElement({'Year': '2020', 'Month': '01', 'Day': '14'}, attributes={'DateType': 'Electronic'})], 'Journal': {'ISSN': StringElement('1756-1833', attributes={'IssnType': 'Electronic'}), 'JournalIssue': DictElement({'Volume': '368', 'PubDate': {'Year': '2020', 'Month': 'Jan', 'Day': '14'}}, attributes={'CitedMedium': 'Internet'}), 'Title': 'BMJ (Clinical research ed.)', 'ISOAbbreviation': 'BMJ'}, 'ArticleTitle': 'The patient who reports a drug allergy.', 'Pagination': {'MedlinePgn': 'l6791'}, 'AuthorList': ListElement([DictElement({'AffiliationInfo': [{'Identifier': [], 'Affiliation': 'West Midlands Centre for Adverse Drug Reactions, City Hospital, Birmingham, UK.'}], 'Identifier': [], 'LastName': 'Ferner', 'ForeName': 'Robin', 'Initials': 'R'}, attributes={'ValidYN': 'Y'}), DictElement({'AffiliationInfo': [{'Identifier': [], 'Affiliation': 'William Harvey Research Institute, Queen Mary University of London, UK.'}], 'Identifier': [], 'LastName': 'McGettigan', 'ForeName': 'Patricia', 'Initials': 'P'}, attributes={'ValidYN': 'Y'})], attributes={'CompleteYN': 'Y'}), 'PublicationTypeList': [StringElement('Journal Article', attributes={'UI': 'D016428'})]}, attributes={'PubModel': 'Electronic'}), 'MedlineJournalInfo': {'Country': 'England', 'MedlineTA': 'BMJ', 'NlmUniqueID': '8900488', 'ISSNLinking': '0959-8138'}, 'MeshHeadingList': [{'QualifierName': [], 'DescriptorName': StringElement('Algorithms', attributes={'UI': 'D000465', 'MajorTopicYN': 'N'})}, {'QualifierName': [], 'DescriptorName': StringElement('Clinical Decision-Making', attributes={'UI': 'D000066491', 'MajorTopicYN': 'N'})}, {'QualifierName': [], 'DescriptorName': StringElement('Diagnosis, Differential', attributes={'UI': 'D003937', 'MajorTopicYN': 'N'})}, {'QualifierName': [StringElement('diagnosis', attributes={'UI': 'Q000175', 'MajorTopicYN': 'N'}), StringElement('immunology', attributes={'UI': 'Q000276', 'MajorTopicYN': 'N'})], 'DescriptorName': StringElement('Drug Hypersensitivity', attributes={'UI': 'D004342', 'MajorTopicYN': 'Y'})}, {'QualifierName': [StringElement('diagnosis', attributes={'UI': 'Q000175', 'MajorTopicYN': 'Y'})], 'DescriptorName': StringElement('Drug-Related Side Effects and Adverse Reactions', attributes={'UI': 'D064420', 'MajorTopicYN': 'N'})}, {'QualifierName': [], 'DescriptorName': StringElement('Humans', attributes={'UI': 'D006801', 'MajorTopicYN': 'N'})}, {'QualifierName': [], 'DescriptorName': StringElement('Immunologic Tests', attributes={'UI': 'D007159', 'MajorTopicYN': 'N'})}, {'QualifierName': [StringElement('methods', attributes={'UI': 'Q000379', 'MajorTopicYN': 'N'}), StringElement('standards', attributes={'UI': 'Q000592', 'MajorTopicYN': 'N'})], 'DescriptorName': StringElement('Medical History Taking', attributes={'UI': 'D008487', 'MajorTopicYN': 'Y'})}, {'QualifierName': [StringElement('prevention & control', attributes={'UI': 'Q000517', 'MajorTopicYN': 'Y'})], 'DescriptorName': StringElement('Medication Errors', attributes={'UI': 'D008508', 'MajorTopicYN': 'N'})}, {'QualifierName': [StringElement('prevention & control', attributes={'UI': 'Q000517', 'MajorTopicYN': 'Y'})], 'DescriptorName': StringElement('Patient Harm', attributes={'UI': 'D064406', 'MajorTopicYN': 'N'})}], 'CoiStatement': 'Competing interests We have read and understood the BMJ Group policy on declaration of interests and declare the following interests: REF has provided medico-legal reports on adverse drug reactions. Further details of The BMJ policy on financial interests are here: https://www.bmj.com/about-bmj/resources-authors/forms-policies-and-checklists/declaration-competing-interests'}, attributes={'Status': 'MEDLINE', 'Owner': 'NLM'}), 'PubmedData': {'ReferenceList': [], 'History': [DictElement({'Year': '2020', 'Month': '1', 'Day': '16', 'Hour': '6', 'Minute': '0'}, attributes={'PubStatus': 'entrez'}), DictElement({'Year': '2020', 'Month': '1', 'Day': '16', 'Hour': '6', 'Minute': '0'}, attributes={'PubStatus': 'pubmed'}), DictElement({'Year': '2020', 'Month': '1', 'Day': '21', 'Hour': '6', 'Minute': '0'}, attributes={'PubStatus': 'medline'})], 'PublicationStatus': 'epublish', 'ArticleIdList': [StringElement('31937572', attributes={'IdType': 'pubmed'}), StringElement('10.1136/bmj.l6791', attributes={'IdType': 'doi'})]}}, {'MedlineCitation': DictElement({'OtherID': [], 'KeywordList': [ListElement([StringElement('Acute urticaria', attributes={'MajorTopicYN': 'N'}), StringElement('Chronic spontaneous urticaria', attributes={'MajorTopicYN': 'N'}), StringElement('Differential diagnosis', attributes={'MajorTopicYN': 'N'}), StringElement('Guidelines', attributes={'MajorTopicYN': 'N'}), StringElement('Inducible urticaria', attributes={'MajorTopicYN': 'N'}), StringElement('Treatment algorithm', attributes={'MajorTopicYN': 'N'})], attributes={'Owner': 'NOTNLM'})], 'OtherAbstract': [], 'CitationSubset': ['AIM', 'IM'], 'SpaceFlightMission': [], 'GeneralNote': [], 'PMID': StringElement('31757233', attributes={'Version': '1'}), 'DateCompleted': {'Year': '2019', 'Month': '12', 'Day': '03'}, 'DateRevised': {'Year': '2019', 'Month': '12', 'Day': '03'}, 'Article': DictElement({'ELocationID': [StringElement('S0025-7125(19)30086-0', attributes={'EIdType': 'pii', 'ValidYN': 'Y'}), StringElement('10.1016/j.mcna.2019.08.010', attributes={'EIdType': 'doi', 'ValidYN': 'Y'})], 'Language': ['eng'], 'ArticleDate': [DictElement({'Year': '2019', 'Month': '10', 'Day': '28'}, attributes={'DateType': 'Electronic'})], 'Journal': {'ISSN': StringElement('1557-9859', attributes={'IssnType': 'Electronic'}), 'JournalIssue': DictElement({'Volume': '104', 'Issue': '1', 'PubDate': {'Year': '2020', 'Month': 'Jan'}}, attributes={'CitedMedium': 'Internet'}), 'Title': 'The Medical clinics of North America', 'ISOAbbreviation': 'Med. Clin. North Am.'}, 'ArticleTitle': 'Approach to the Patient with Hives.', 'Pagination': {'MedlinePgn': '15-24'}, 'Abstract': {'AbstractText': ['Urticaria is a common presenting problem to the primary care provider. Acute urticaria lasting less than 6 weeks may be associated with a drug or food allergens. Chronic urticaria lasting more than 6\\xa0weeks is often associated without a known underlying cause. Inducible stimuli causing hives should be excluded using specific provocation testing. Treatment follows a standardized algorithmic approach as outlined by the Joint Task Force Practice Parameter and/or International Urticaria guidelines. Patients not responsive to steps 1 or 2 should be referred to an urticaria specialist for further evaluation and treatment. The prognosis and outcome of urticaria is generally very favorable for most patients.'], 'CopyrightInformation': 'Copyright © 2019 Elsevier Inc. All rights reserved.'}, 'AuthorList': ListElement([DictElement({'AffiliationInfo': [{'Identifier': [], 'Affiliation': 'University of Cincinnati Department of Internal Medicine, Division of Immunology, Allergy Section, University of Cincinnati, 231 Albert Sabin Way, ML#563, Cincinnati, OH 45267, USA; Bernstein Allergy Group, 8444 Winton Road, Cincinnati, OH 45231, USA.'}], 'Identifier': [], 'LastName': 'Greiwe', 'ForeName': 'Justin', 'Initials': 'J'}, attributes={'ValidYN': 'Y'}), DictElement({'AffiliationInfo': [{'Identifier': [], 'Affiliation': 'University of Cincinnati Department of Internal Medicine, Division of Immunology, Allergy Section, University of Cincinnati, 231 Albert Sabin Way, ML#563, Cincinnati, OH 45267, USA; Bernstein Allergy Group, 8444 Winton Road, Cincinnati, OH 45231, USA. Electronic address: jonathan.bernstein@uc.edu.'}], 'Identifier': [], 'LastName': 'Bernstein', 'ForeName': 'Jonathan A', 'Initials': 'JA'}, attributes={'ValidYN': 'Y'})], attributes={'CompleteYN': 'Y'}), 'PublicationTypeList': [StringElement('Journal Article', attributes={'UI': 'D016428'}), StringElement('Review', attributes={'UI': 'D016454'})]}, attributes={'PubModel': 'Print-Electronic'}), 'MedlineJournalInfo': {'Country': 'United States', 'MedlineTA': 'Med Clin North Am', 'NlmUniqueID': '2985236R', 'ISSNLinking': '0025-7125'}, 'MeshHeadingList': [{'QualifierName': [], 'DescriptorName': StringElement('Acute Disease', attributes={'UI': 'D000208', 'MajorTopicYN': 'N'})}, {'QualifierName': [StringElement('standards', attributes={'UI': 'Q000592', 'MajorTopicYN': 'N'})], 'DescriptorName': StringElement('Advisory Committees', attributes={'UI': 'D026683', 'MajorTopicYN': 'N'})}, {'QualifierName': [], 'DescriptorName': StringElement('Chronic Disease', attributes={'UI': 'D002908', 'MajorTopicYN': 'N'})}, {'QualifierName': [StringElement('complications', attributes={'UI': 'Q000150', 'MajorTopicYN': 'N'}), StringElement('diagnosis', attributes={'UI': 'Q000175', 'MajorTopicYN': 'N'})], 'DescriptorName': StringElement('Drug Hypersensitivity', attributes={'UI': 'D004342', 'MajorTopicYN': 'N'})}, {'QualifierName': [StringElement('complications', attributes={'UI': 'Q000150', 'MajorTopicYN': 'N'}), StringElement('diagnosis', attributes={'UI': 'Q000175', 'MajorTopicYN': 'N'})], 'DescriptorName': StringElement('Food Hypersensitivity', attributes={'UI': 'D005512', 'MajorTopicYN': 'N'})}, {'QualifierName': [], 'DescriptorName': StringElement('Humans', attributes={'UI': 'D006801', 'MajorTopicYN': 'N'})}, {'QualifierName': [], 'DescriptorName': StringElement('Practice Guidelines as Topic', attributes={'UI': 'D017410', 'MajorTopicYN': 'N'})}, {'QualifierName': [StringElement('methods', attributes={'UI': 'Q000379', 'MajorTopicYN': 'Y'}), StringElement('standards', attributes={'UI': 'Q000592', 'MajorTopicYN': 'N'})], 'DescriptorName': StringElement('Primary Health Care', attributes={'UI': 'D011320', 'MajorTopicYN': 'N'})}, {'QualifierName': [], 'DescriptorName': StringElement('Prognosis', attributes={'UI': 'D011379', 'MajorTopicYN': 'N'})}, {'QualifierName': [], 'DescriptorName': StringElement('Referral and Consultation', attributes={'UI': 'D012017', 'MajorTopicYN': 'N'})}, {'QualifierName': [StringElement('diagnosis', attributes={'UI': 'Q000175', 'MajorTopicYN': 'Y'}), StringElement('etiology', attributes={'UI': 'Q000209', 'MajorTopicYN': 'N'})], 'DescriptorName': StringElement('Urticaria', attributes={'UI': 'D014581', 'MajorTopicYN': 'N'})}]}, attributes={'Status': 'MEDLINE', 'Owner': 'NLM'}), 'PubmedData': {'ReferenceList': [], 'History': [DictElement({'Year': '2019', 'Month': '11', 'Day': '24', 'Hour': '6', 'Minute': '0'}, attributes={'PubStatus': 'entrez'}), DictElement({'Year': '2019', 'Month': '11', 'Day': '24', 'Hour': '6', 'Minute': '0'}, attributes={'PubStatus': 'pubmed'}), DictElement({'Year': '2019', 'Month': '12', 'Day': '4', 'Hour': '6', 'Minute': '0'}, attributes={'PubStatus': 'medline'})], 'PublicationStatus': 'ppublish', 'ArticleIdList': [StringElement('31757233', attributes={'IdType': 'pubmed'}), StringElement('S0025-7125(19)30086-0', attributes={'IdType': 'pii'}), StringElement('10.1016/j.mcna.2019.08.010', attributes={'IdType': 'doi'})]}}, {'MedlineCitation': DictElement({'OtherID': [], 'KeywordList': [ListElement([StringElement('Cr(VI)', attributes={'MajorTopicYN': 'N'}), StringElement('Hedgehog pathway', attributes={'MajorTopicYN': 'N'}), StringElement('Liver fibrosis', attributes={'MajorTopicYN': 'N'}), StringElement('Shh+/−mice', attributes={'MajorTopicYN': 'N'})], attributes={'Owner': 'NOTNLM'})], 'OtherAbstract': [], 'CitationSubset': ['IM'], 'SpaceFlightMission': [], 'GeneralNote': [], 'PMID': StringElement('31756458', attributes={'Version': '1'}), 'DateCompleted': {'Year': '2020', 'Month': '01', 'Day': '13'}, 'DateRevised': {'Year': '2020', 'Month': '01', 'Day': '13'}, 'Article': DictElement({'ELocationID': [StringElement('S0378-4274(19)30374-1', attributes={'EIdType': 'pii', 'ValidYN': 'Y'}), StringElement('10.1016/j.toxlet.2019.11.017', attributes={'EIdType': 'doi', 'ValidYN': 'Y'})], 'Language': ['eng'], 'ArticleDate': [DictElement({'Year': '2019', 'Month': '11', 'Day': '19'}, attributes={'DateType': 'Electronic'})], 'Journal': {'ISSN': StringElement('1879-3169', attributes={'IssnType': 'Electronic'}), 'JournalIssue': DictElement({'Volume': '320', 'PubDate': {'Year': '2020', 'Month': 'Mar', 'Day': '01'}}, attributes={'CitedMedium': 'Internet'}), 'Title': 'Toxicology letters', 'ISOAbbreviation': 'Toxicol. Lett.'}, 'ArticleTitle': 'Hedgehog signaling pathway regulates hexavalent chromium-induced liver fibrosis by activation of hepatic stellate cells.', 'Pagination': {'MedlinePgn': '1-8'}, 'Abstract': {'AbstractText': ['With the spread of hexavalent chromium [Cr(VI)] contamination, risk of exposure in non-occupational populations is increasing. The liver is the main target organ for Cr(VI) accumulation; however, the effect of long-term Cr(VI) exposure on liver toxicity is largely unknown. In this study, we investigated the effect of chronic Cr(VI) exposure on liver fibrosis and its possible mechanism. Mice were injected with Cr(VI) for two months, and our results showed Cr(VI) treatment caused liver toxicity characterized by liver structure disorganization, liver dysfunction, and antioxidant enzyme system inhibition. The development of liver fibrosis was also found via the emergence of collagen fibril deposition, increased expression of extracellular matrix-related genes, activation of hepatic stellate cells (HSCs) and increase the expression levels of Hedgehog (Hh) signaling pathway-related molecules. To demonstrate the role of Hh signaling in the regulation of Cr(VI)-induced liver fibrosis, genetically modified mice with heterozygous deficiency of Shh (Shh<sup>+/-</sup>) were used. In the Shh<sup>+/-</sup> mice, Hh signaling, HSCs activation and liver fibrosis development were all ameliorated. In conclusion, we demonstrated that Cr(VI)-induced liver fibrosis development resulted from Hh pathway-mediated HSCs activation. Our findings strongly suggest that inhibition of Hh pathway may help in the development of new strategies for Cr(VI)-associated liver fibrosis.'], 'CopyrightInformation': 'Copyright © 2019 Elsevier B.V. All rights reserved.'}, 'AuthorList': ListElement([DictElement({'AffiliationInfo': [{'Identifier': [], 'Affiliation': 'College of Life Science, Shaoxing University, Shaoxing, Zhejiang, China.'}], 'Identifier': [], 'LastName': 'Yan', 'ForeName': 'Junyan', 'Initials': 'J'}, attributes={'ValidYN': 'Y'}), DictElement({'AffiliationInfo': [{'Identifier': [], 'Affiliation': 'College of Life and Environmental Science, Hangzhou Normal University, Hangzhou, China.'}], 'Identifier': [], 'LastName': 'Huang', 'ForeName': 'Huarong', 'Initials': 'H'}, attributes={'ValidYN': 'Y'}), DictElement({'AffiliationInfo': [{'Identifier': [], 'Affiliation': 'Department of Pathology, Affliliated Hospital of Shaoxing University, Shaoxing, Zhejiang, China.'}], 'Identifier': [], 'LastName': 'Liu', 'ForeName': 'Zuping', 'Initials': 'Z'}, attributes={'ValidYN': 'Y'}), DictElement({'AffiliationInfo': [{'Identifier': [], 'Affiliation': 'Department of Pathology, Affliliated Hospital of Shaoxing University, Shaoxing, Zhejiang, China.'}], 'Identifier': [], 'LastName': 'Shen', 'ForeName': 'Jiayuan', 'Initials': 'J'}, attributes={'ValidYN': 'Y'}), DictElement({'AffiliationInfo': [{'Identifier': [], 'Affiliation': 'College of Life Science, Shaoxing University, Shaoxing, Zhejiang, China.'}], 'Identifier': [], 'LastName': 'Ni', 'ForeName': 'Jian', 'Initials': 'J'}, attributes={'ValidYN': 'Y'}), DictElement({'AffiliationInfo': [{'Identifier': [], 'Affiliation': 'Department of Pathology, Affliliated Hospital of Shaoxing University, Shaoxing, Zhejiang, China.'}], 'Identifier': [], 'LastName': 'Han', 'ForeName': 'Jiwei', 'Initials': 'J'}, attributes={'ValidYN': 'Y'}), DictElement({'AffiliationInfo': [{'Identifier': [], 'Affiliation': 'College of Life Science, Qufu Normal University, Qufu City, Shandong, China.'}], 'Identifier': [], 'LastName': 'Wang', 'ForeName': 'Renjun', 'Initials': 'R'}, attributes={'ValidYN': 'Y'}), DictElement({'AffiliationInfo': [{'Identifier': [], 'Affiliation': 'The Second Hospital of Shaoxing, Shaoxing, Zhejiang, China.'}], 'Identifier': [], 'LastName': 'Lin', 'ForeName': 'Derong', 'Initials': 'D'}, attributes={'ValidYN': 'Y'}), DictElement({'AffiliationInfo': [{'Identifier': [], 'Affiliation': 'College of Life Science, Shaoxing University, Shaoxing, Zhejiang, China. Electronic address: hbw@usx.edu.cn.'}], 'Identifier': [], 'LastName': 'Hu', 'ForeName': 'Baowei', 'Initials': 'B'}, attributes={'ValidYN': 'Y'}), DictElement({'AffiliationInfo': [{'Identifier': [], 'Affiliation': 'College of Life Science, Shaoxing University, Shaoxing, Zhejiang, China. Electronic address: lifangj@sohu.com.'}], 'Identifier': [], 'LastName': 'Jin', 'ForeName': 'Lifang', 'Initials': 'L'}, attributes={'ValidYN': 'Y'})], attributes={'CompleteYN': 'Y'}), 'PublicationTypeList': [StringElement('Journal Article', attributes={'UI': 'D016428'})]}, attributes={'PubModel': 'Print-Electronic'}), 'MedlineJournalInfo': {'Country': 'Netherlands', 'MedlineTA': 'Toxicol Lett', 'NlmUniqueID': '7709027', 'ISSNLinking': '0378-4274'}, 'ChemicalList': [{'RegistryNumber': '0', 'NameOfSubstance': StringElement('Hedgehog Proteins', attributes={'UI': 'D053823'})}, {'RegistryNumber': '0', 'NameOfSubstance': StringElement('Shh protein, mouse', attributes={'UI': 'C465570'})}, {'RegistryNumber': '0R0008Q3JB', 'NameOfSubstance': StringElement('Chromium', attributes={'UI': 'D002857'})}, {'RegistryNumber': '18540-29-9', 'NameOfSubstance': StringElement('chromium hexavalent ion', attributes={'UI': 'C074702'})}, {'RegistryNumber': 'T4423S18FM', 'NameOfSubstance': StringElement('Potassium Dichromate', attributes={'UI': 'D011192'})}], 'MeshHeadingList': [{'QualifierName': [], 'DescriptorName': StringElement('Animals', attributes={'UI': 'D000818', 'MajorTopicYN': 'N'})}, {'QualifierName': [StringElement('genetics', attributes={'UI': 'Q000235', 'MajorTopicYN': 'N'}), StringElement('metabolism', attributes={'UI': 'Q000378', 'MajorTopicYN': 'Y'}), StringElement('pathology', attributes={'UI': 'Q000473', 'MajorTopicYN': 'N'})], 'DescriptorName': StringElement('Chemical and Drug Induced Liver Injury', attributes={'UI': 'D056486', 'MajorTopicYN': 'N'})}, {'QualifierName': [], 'DescriptorName': StringElement('Chromium', attributes={'UI': 'D002857', 'MajorTopicYN': 'Y'})}, {'QualifierName': [], 'DescriptorName': StringElement('Disease Models, Animal', attributes={'UI': 'D004195', 'MajorTopicYN': 'N'})}, {'QualifierName': [StringElement('deficiency', attributes={'UI': 'Q000172', 'MajorTopicYN': 'N'}), StringElement('genetics', attributes={'UI': 'Q000235', 'MajorTopicYN': 'N'}), StringElement('metabolism', attributes={'UI': 'Q000378', 'MajorTopicYN': 'Y'})], 'DescriptorName': StringElement('Hedgehog Proteins', attributes={'UI': 'D053823', 'MajorTopicYN': 'N'})}, {'QualifierName': [StringElement('metabolism', attributes={'UI': 'Q000378', 'MajorTopicYN': 'Y'}), StringElement('pathology', attributes={'UI': 'Q000473', 'MajorTopicYN': 'N'})], 'DescriptorName': StringElement('Hepatic Stellate Cells', attributes={'UI': 'D055166', 'MajorTopicYN': 'N'})}, {'QualifierName': [StringElement('metabolism', attributes={'UI': 'Q000378', 'MajorTopicYN': 'Y'}), StringElement('pathology', attributes={'UI': 'Q000473', 'MajorTopicYN': 'N'})], 'DescriptorName': StringElement('Liver', attributes={'UI': 'D008099', 'MajorTopicYN': 'N'})}, {'QualifierName': [StringElement('chemically induced', attributes={'UI': 'Q000139', 'MajorTopicYN': 'N'}), StringElement('genetics', attributes={'UI': 'Q000235', 'MajorTopicYN': 'N'}), StringElement('metabolism', attributes={'UI': 'Q000378', 'MajorTopicYN': 'Y'}), StringElement('pathology', attributes={'UI': 'Q000473', 'MajorTopicYN': 'N'})], 'DescriptorName': StringElement('Liver Cirrhosis, Experimental', attributes={'UI': 'D008106', 'MajorTopicYN': 'N'})}, {'QualifierName': [], 'DescriptorName': StringElement('Male', attributes={'UI': 'D008297', 'MajorTopicYN': 'N'})}, {'QualifierName': [], 'DescriptorName': StringElement('Mice, Inbred C57BL', attributes={'UI': 'D008810', 'MajorTopicYN': 'N'})}, {'QualifierName': [], 'DescriptorName': StringElement('Mice, Knockout', attributes={'UI': 'D018345', 'MajorTopicYN': 'N'})}, {'QualifierName': [], 'DescriptorName': StringElement('Potassium Dichromate', attributes={'UI': 'D011192', 'MajorTopicYN': 'Y'})}, {'QualifierName': [], 'DescriptorName': StringElement('Signal Transduction', attributes={'UI': 'D015398', 'MajorTopicYN': 'Y'})}]}, attributes={'Status': 'MEDLINE', 'Owner': 'NLM'}), 'PubmedData': {'ReferenceList': [], 'History': [DictElement({'Year': '2019', 'Month': '08', 'Day': '22'}, attributes={'PubStatus': 'received'}), DictElement({'Year': '2019', 'Month': '11', 'Day': '18'}, attributes={'PubStatus': 'revised'}), DictElement({'Year': '2019', 'Month': '11', 'Day': '18'}, attributes={'PubStatus': 'accepted'}), DictElement({'Year': '2019', 'Month': '11', 'Day': '23', 'Hour': '6', 'Minute': '0'}, attributes={'PubStatus': 'pubmed'}), DictElement({'Year': '2020', 'Month': '1', 'Day': '14', 'Hour': '6', 'Minute': '0'}, attributes={'PubStatus': 'medline'}), DictElement({'Year': '2019', 'Month': '11', 'Day': '23', 'Hour': '6', 'Minute': '0'}, attributes={'PubStatus': 'entrez'})], 'PublicationStatus': 'ppublish', 'ArticleIdList': [StringElement('31756458', attributes={'IdType': 'pubmed'}), StringElement('S0378-4274(19)30374-1', attributes={'IdType': 'pii'}), StringElement('10.1016/j.toxlet.2019.11.017', attributes={'IdType': 'doi'})]}}, {'MedlineCitation': DictElement({'OtherID': [], 'KeywordList': [ListElement([StringElement('Cyclooxygenase inhibitors', attributes={'MajorTopicYN': 'Y'}), StringElement('Drug hypersensitivity reactions', attributes={'MajorTopicYN': 'Y'}), StringElement('Histamine', attributes={'MajorTopicYN': 'Y'}), StringElement('Human peripheral blood', attributes={'MajorTopicYN': 'Y'}), StringElement('Non-steroidal anti-inflammatory drugs', attributes={'MajorTopicYN': 'Y'})], attributes={'Owner': 'NOTNLM'})], 'OtherAbstract': [], 'CitationSubset': ['IM'], 'SpaceFlightMission': [], 'GeneralNote': [], 'PMID': StringElement('31752003', attributes={'Version': '1'}), 'DateCompleted': {'Year': '2020', 'Month': '01', 'Day': '13'}, 'DateRevised': {'Year': '2020', 'Month': '01', 'Day': '13'}, 'Article': DictElement({'ELocationID': [StringElement('10.1159/000503968', attributes={'EIdType': 'doi', 'ValidYN': 'Y'})], 'Language': ['eng'], 'ArticleDate': [DictElement({'Year': '2019', 'Month': '11', 'Day': '21'}, attributes={'DateType': 'Electronic'})], 'Journal': {'ISSN': StringElement('1423-0097', attributes={'IssnType': 'Electronic'}), 'JournalIssue': DictElement({'Volume': '181', 'Issue': '1', 'PubDate': {'Year': '2020'}}, attributes={'CitedMedium': 'Internet'}), 'Title': 'International archives of allergy and immunology', 'ISOAbbreviation': 'Int. Arch. Allergy Immunol.'}, 'ArticleTitle': 'Increased Basal Blood Histamine Levels in Patients with Self-Reported Hypersensitivity to Non-Steroidal Anti-Inflammatory Drugs.', 'Pagination': {'MedlinePgn': '24-30'}, 'Abstract': {'AbstractText': [StringElement('Non-steroidal anti-inflammatory drugs (NSAIDs) represent one of the most prevalent causes of drug hypersensitivity reactions (DHRs), yet the underlying processes are far from clear. Despite the established role of histamine in allergic reactions, its precise implication in DHRs is elusive.', attributes={'Label': 'BACKGROUND'}), StringElement('This study aimed to explore the connection of basal blood histamine levels to the reported NSAID hypersensitivity.', attributes={'Label': 'OBJECTIVES'}), StringElement('Sixteen patients reporting hypersensitivity reactions to a single or multiple NSAIDs and/or paracetamol and 18 healthy volunteers serving as the normal control group enrolled in the study. The medical history was recorded and histamine was quantified spectrophotofluorometrically in whole peripheral blood and plasma.', attributes={'Label': 'METHODS'}), StringElement('Compared to the normal group, plasma but not whole blood histamine levels were significantly higher in patients (p < 0.001), mainly in the subgroup reporting hypersensitivity to a single agent (p < 0.001). Plasma histamine levels were significantly correlated with the culprit drug selectivity for cyclooxygenase (COX) isozymes (p < 0.001), with higher levels being obtained in patients reporting reactions to COX-1 than to COX-2 selective inhibitors (p < 0.05).', attributes={'Label': 'RESULTS'}), StringElement('The findings provide first evidence connecting basal blood histamine levels to the reported NSAID-triggered DHRs. Prospective studies are expected to decipher the contribution of histamine-associated parameters to the mechanisms underlying DHRs.', attributes={'Label': 'CONCLUSIONS'})], 'CopyrightInformation': '© 2019 S. Karger AG, Basel.'}, 'AuthorList': ListElement([DictElement({'AffiliationInfo': [{'Identifier': [], 'Affiliation': 'Department of Pharmacology, Medical School, National and Kapodistrian University of Athens, Athens, Greece.'}], 'Identifier': [], 'LastName': 'Kakolyri', 'ForeName': 'Maria', 'Initials': 'M'}, attributes={'ValidYN': 'Y'}), DictElement({'AffiliationInfo': [{'Identifier': [], 'Affiliation': 'Department of Pharmacology, Medical School, National and Kapodistrian University of Athens, Athens, Greece.'}], 'Identifier': [], 'LastName': 'Strikou', 'ForeName': 'Flora', 'Initials': 'F'}, attributes={'ValidYN': 'Y'}), DictElement({'AffiliationInfo': [{'Identifier': [], 'Affiliation': 'Department of Pharmacology, Medical School, National and Kapodistrian University of Athens, Athens, Greece.'}], 'Identifier': [], 'LastName': 'Kavallari', 'ForeName': 'Andriana', 'Initials': 'A'}, attributes={'ValidYN': 'Y'}), DictElement({'AffiliationInfo': [{'Identifier': [], 'Affiliation': 'Allergy Unit \"D. Kalogeromitros,\" 2nd Department of Dermatology and Venereology, \"Attikon\" General University Hospital, National and Kapodistrian University of Athens, Athens, Greece.'}], 'Identifier': [], 'LastName': 'Chliva', 'ForeName': 'Caterina', 'Initials': 'C'}, attributes={'ValidYN': 'Y'}), DictElement({'AffiliationInfo': [{'Identifier': [], 'Affiliation': 'Allergy Unit \"D. Kalogeromitros,\" 2nd Department of Dermatology and Venereology, \"Attikon\" General University Hospital, National and Kapodistrian University of Athens, Athens, Greece.'}], 'Identifier': [], 'LastName': 'Makris', 'ForeName': 'Michael', 'Initials': 'M'}, attributes={'ValidYN': 'Y'}), DictElement({'AffiliationInfo': [{'Identifier': [], 'Affiliation': 'Department of Pharmacology, Medical School, National and Kapodistrian University of Athens, Athens, Greece, aityliga@med.uoa.gr.'}], 'Identifier': [], 'LastName': 'Tiligada', 'ForeName': 'Ekaterini', 'Initials': 'E'}, attributes={'ValidYN': 'Y'})], attributes={'CompleteYN': 'Y'}), 'PublicationTypeList': [StringElement('Journal Article', attributes={'UI': 'D016428'})]}, attributes={'PubModel': 'Print-Electronic'}), 'MedlineJournalInfo': {'Country': 'Switzerland', 'MedlineTA': 'Int Arch Allergy Immunol', 'NlmUniqueID': '9211652', 'ISSNLinking': '1018-2438'}, 'ChemicalList': [{'RegistryNumber': '0', 'NameOfSubstance': StringElement('Allergens', attributes={'UI': 'D000485'})}, {'RegistryNumber': '0', 'NameOfSubstance': StringElement('Anti-Inflammatory Agents, Non-Steroidal', attributes={'UI': 'D000894'})}, {'RegistryNumber': '0', 'NameOfSubstance': StringElement('Biomarkers', attributes={'UI': 'D015415'})}, {'RegistryNumber': '0', 'NameOfSubstance': StringElement('Cyclooxygenase 2 Inhibitors', attributes={'UI': 'D052246'})}, {'RegistryNumber': '362O9ITL9D', 'NameOfSubstance': StringElement('Acetaminophen', attributes={'UI': 'D000082'})}, {'RegistryNumber': '820484N8I3', 'NameOfSubstance': StringElement('Histamine', attributes={'UI': 'D006632'})}], 'MeshHeadingList': [{'QualifierName': [StringElement('adverse effects', attributes={'UI': 'Q000009', 'MajorTopicYN': 'Y'}), StringElement('immunology', attributes={'UI': 'Q000276', 'MajorTopicYN': 'N'}), StringElement('therapeutic use', attributes={'UI': 'Q000627', 'MajorTopicYN': 'N'})], 'DescriptorName': StringElement('Acetaminophen', attributes={'UI': 'D000082', 'MajorTopicYN': 'N'})}, {'QualifierName': [], 'DescriptorName': StringElement('Adult', attributes={'UI': 'D000328', 'MajorTopicYN': 'N'})}, {'QualifierName': [], 'DescriptorName': StringElement('Aged', attributes={'UI': 'D000368', 'MajorTopicYN': 'N'})}, {'QualifierName': [StringElement('immunology', attributes={'UI': 'Q000276', 'MajorTopicYN': 'N'})], 'DescriptorName': StringElement('Allergens', attributes={'UI': 'D000485', 'MajorTopicYN': 'N'})}, {'QualifierName': [StringElement('adverse effects', attributes={'UI': 'Q000009', 'MajorTopicYN': 'Y'}), StringElement('immunology', attributes={'UI': 'Q000276', 'MajorTopicYN': 'N'}), StringElement('therapeutic use', attributes={'UI': 'Q000627', 'MajorTopicYN': 'N'})], 'DescriptorName': StringElement('Anti-Inflammatory Agents, Non-Steroidal', attributes={'UI': 'D000894', 'MajorTopicYN': 'N'})}, {'QualifierName': [StringElement('blood', attributes={'UI': 'Q000097', 'MajorTopicYN': 'N'})], 'DescriptorName': StringElement('Biomarkers', attributes={'UI': 'D015415', 'MajorTopicYN': 'N'})}, {'QualifierName': [StringElement('adverse effects', attributes={'UI': 'Q000009', 'MajorTopicYN': 'Y'}), StringElement('immunology', attributes={'UI': 'Q000276', 'MajorTopicYN': 'N'}), StringElement('therapeutic use', attributes={'UI': 'Q000627', 'MajorTopicYN': 'N'})], 'DescriptorName': StringElement('Cyclooxygenase 2 Inhibitors', attributes={'UI': 'D052246', 'MajorTopicYN': 'N'})}, {'QualifierName': [StringElement('immunology', attributes={'UI': 'Q000276', 'MajorTopicYN': 'Y'})], 'DescriptorName': StringElement('Drug Hypersensitivity', attributes={'UI': 'D004342', 'MajorTopicYN': 'N'})}, {'QualifierName': [], 'DescriptorName': StringElement('Female', attributes={'UI': 'D005260', 'MajorTopicYN': 'N'})}, {'QualifierName': [StringElement('blood', attributes={'UI': 'Q000097', 'MajorTopicYN': 'Y'})], 'DescriptorName': StringElement('Histamine', attributes={'UI': 'D006632', 'MajorTopicYN': 'N'})}, {'QualifierName': [], 'DescriptorName': StringElement('Humans', attributes={'UI': 'D006801', 'MajorTopicYN': 'N'})}, {'QualifierName': [], 'DescriptorName': StringElement('Male', attributes={'UI': 'D008297', 'MajorTopicYN': 'N'})}, {'QualifierName': [], 'DescriptorName': StringElement('Middle Aged', attributes={'UI': 'D008875', 'MajorTopicYN': 'N'})}, {'QualifierName': [], 'DescriptorName': StringElement('Self Report', attributes={'UI': 'D057566', 'MajorTopicYN': 'N'})}, {'QualifierName': [], 'DescriptorName': StringElement('Young Adult', attributes={'UI': 'D055815', 'MajorTopicYN': 'N'})}]}, attributes={'Status': 'MEDLINE', 'Owner': 'NLM'}), 'PubmedData': {'ReferenceList': [], 'History': [DictElement({'Year': '2019', 'Month': '09', 'Day': '03'}, attributes={'PubStatus': 'received'}), DictElement({'Year': '2019', 'Month': '10', 'Day': '07'}, attributes={'PubStatus': 'accepted'}), DictElement({'Year': '2019', 'Month': '11', 'Day': '22', 'Hour': '6', 'Minute': '0'}, attributes={'PubStatus': 'pubmed'}), DictElement({'Year': '2020', 'Month': '1', 'Day': '14', 'Hour': '6', 'Minute': '0'}, attributes={'PubStatus': 'medline'}), DictElement({'Year': '2019', 'Month': '11', 'Day': '22', 'Hour': '6', 'Minute': '0'}, attributes={'PubStatus': 'entrez'})], 'PublicationStatus': 'ppublish', 'ArticleIdList': [StringElement('31752003', attributes={'IdType': 'pubmed'}), StringElement('000503968', attributes={'IdType': 'pii'}), StringElement('10.1159/000503968', attributes={'IdType': 'doi'})]}}, {'MedlineCitation': DictElement({'OtherID': [], 'KeywordList': [], 'OtherAbstract': [], 'CitationSubset': ['IM'], 'SpaceFlightMission': [], 'GeneralNote': [], 'PMID': StringElement('31746730', attributes={'Version': '1'}), 'DateCompleted': {'Year': '2020', 'Month': '01', 'Day': '06'}, 'DateRevised': {'Year': '2020', 'Month': '01', 'Day': '08'}, 'Article': DictElement({'ELocationID': [StringElement('10.5414/CP203390', attributes={'EIdType': 'doi', 'ValidYN': 'Y'})], 'Language': ['eng'], 'ArticleDate': [], 'Journal': {'ISSN': StringElement('0946-1965', attributes={'IssnType': 'Print'}), 'JournalIssue': DictElement({'Volume': '58', 'Issue': '1', 'PubDate': {'Year': '2020', 'Month': 'Jan'}}, attributes={'CitedMedium': 'Print'}), 'Title': 'International journal of clinical pharmacology and therapeutics', 'ISOAbbreviation': 'Int J Clin Pharmacol Ther'}, 'ArticleTitle': 'How safe are our studies? Analysis of adverse events in Bayer First-in-Human trials from 2006 to 2016\\u2029.', 'Pagination': {'MedlinePgn': '10-20'}, 'Abstract': {'AbstractText': [StringElement('In regard to the current scientific discussion, this analysis aims to broaden the database for a risk evaluation of First-in-Human (FiH) trials with healthy volunteers.', attributes={'Label': 'PURPOSE', 'NlmCategory': 'OBJECTIVE'}), StringElement('Study documents of each FiH study conducted between 2006 and 2016 for Bayer Clinical Pharmacology Cardiovascular were reviewed for inclusion. Study types, treatments, dose steps, study population, number, incidence, and intensity of treatment-emergent adverse events (AEs) were cumulatively analyzed using descriptive statistics. A comparison to a previous similar analysis (period 2000\\xa0-\\xa02005) was made.', attributes={'Label': 'MATERIALS AND METHODS', 'NlmCategory': 'METHODS'}), StringElement('22 out of 25 studies were included (20 small molecules, 2\\xa0biologics) investigating drugs for cardiovascular (9), hematological (7), pulmonary (3), kidney (2), and metabolic (1) diseases. The mean age of subjects was 34.2 years. 1,250\\xa0subjects received treatment (950 active, 300\\xa0placebo). 952 AEs occurred (0.76 AEs/treatment, 0.85 AEs/active treatment, 0.49 AEs/placebo treatment). 88.2% (840/952) of AEs were mild, 11.3% (108/952) moderate, and 0.4% (4/952) were severe. 0.4% (5/1250) of subjects had active drug- or procedure-related serious AEs. The most frequent AE was headache (12.9% (123/952)), the mostly affected system organ class was CNS (14.4% of all subjects). The relative risk for an AE was significantly higher under active drug compared to placebo (1.24, 95% LCL >1). The incidence of AEs increased with higher dose steps. A higher incidence of AEs (active and placebo) in recent compared to previous studies was observed.', attributes={'Label': 'RESULTS', 'NlmCategory': 'RESULTS'}), StringElement('The risk of severe harm for healthy participants was low. The risk to experience any AE was higher under active drug compared to placebo. A trend change towards more frequent reporting of AEs in the recent studies was observed.', attributes={'Label': 'CONCLUSION', 'NlmCategory': 'CONCLUSIONS'})]}, 'AuthorList': ListElement([DictElement({'AffiliationInfo': [], 'Identifier': [], 'LastName': 'Jung', 'ForeName': 'David', 'Initials': 'D'}, attributes={'ValidYN': 'Y'}), DictElement({'AffiliationInfo': [], 'Identifier': [], 'LastName': 'Boettcher', 'ForeName': 'Michael-Friedrich', 'Initials': 'MF'}, attributes={'ValidYN': 'Y'}), DictElement({'AffiliationInfo': [], 'Identifier': [], 'LastName': 'Wensing', 'ForeName': 'Georg', 'Initials': 'G'}, attributes={'ValidYN': 'Y'})], attributes={'CompleteYN': 'Y'}), 'PublicationTypeList': [StringElement('Journal Article', attributes={'UI': 'D016428'}), StringElement('Review', attributes={'UI': 'D016454'})]}, attributes={'PubModel': 'Print'}), 'MedlineJournalInfo': {'Country': 'Germany', 'MedlineTA': 'Int J Clin Pharmacol Ther', 'NlmUniqueID': '9423309', 'ISSNLinking': '0946-1965'}, 'MeshHeadingList': [{'QualifierName': [], 'DescriptorName': StringElement('Clinical Trials as Topic', attributes={'UI': 'D002986', 'MajorTopicYN': 'Y'})}, {'QualifierName': [StringElement('epidemiology', attributes={'UI': 'Q000453', 'MajorTopicYN': 'Y'})], 'DescriptorName': StringElement('Drug-Related Side Effects and Adverse Reactions', attributes={'UI': 'D064420', 'MajorTopicYN': 'N'})}, {'QualifierName': [], 'DescriptorName': StringElement('Humans', attributes={'UI': 'D006801', 'MajorTopicYN': 'N'})}, {'QualifierName': [], 'DescriptorName': StringElement('Incidence', attributes={'UI': 'D015994', 'MajorTopicYN': 'N'})}, {'QualifierName': [], 'DescriptorName': StringElement('Research Design', attributes={'UI': 'D012107', 'MajorTopicYN': 'Y'})}]}, attributes={'Status': 'MEDLINE', 'IndexingMethod': 'Curated', 'Owner': 'NLM'}), 'PubmedData': {'ReferenceList': [], 'History': [DictElement({'Year': '2019', 'Month': '12', 'Day': '17'}, attributes={'PubStatus': 'accepted'}), DictElement({'Year': '2019', 'Month': '11', 'Day': '21', 'Hour': '6', 'Minute': '0'}, attributes={'PubStatus': 'pubmed'}), DictElement({'Year': '2020', 'Month': '1', 'Day': '7', 'Hour': '6', 'Minute': '0'}, attributes={'PubStatus': 'medline'}), DictElement({'Year': '2019', 'Month': '11', 'Day': '21', 'Hour': '6', 'Minute': '0'}, attributes={'PubStatus': 'entrez'})], 'PublicationStatus': 'ppublish', 'ArticleIdList': [StringElement('31746730', attributes={'IdType': 'pubmed'}), StringElement('186035', attributes={'IdType': 'pii'}), StringElement('10.5414/CP203390', attributes={'IdType': 'doi'})]}}]}"
      ]
     },
     "execution_count": 100,
     "metadata": {},
     "output_type": "execute_result"
    }
   ],
   "source": [
    "results = search('\"Drug-Related Side Effects and Adverse Reactions\"[Mesh]')\n",
    "pmids = results['IdList']\n",
    "records = fetch_details(pmids)\n",
    "records"
   ]
  },
  {
   "cell_type": "code",
   "execution_count": 101,
   "metadata": {},
   "outputs": [],
   "source": [
    "abstract_dict = {}\n",
    "without_abstract = []\n",
    "\n",
    "for pubmed_article in records['PubmedArticle']:\n",
    "    pmid = int(str(pubmed_article['MedlineCitation']['PMID']))\n",
    "    article = pubmed_article['MedlineCitation']['Article']\n",
    "   # mesh = pubmed_article['MedlineCitation']['MeshHeadingList']\n",
    "    if 'Abstract' in article:\n",
    "        abstract = article['Abstract']['AbstractText'][0]\n",
    "        abstract_dict[pmid] = abstract\n",
    "    else:\n",
    "       without_abstract.append(pmid)\n",
    "\n",
    "#print(abstract_dict)"
   ]
  },
  {
   "cell_type": "code",
   "execution_count": 102,
   "metadata": {},
   "outputs": [
    {
     "name": "stdout",
     "output_type": "stream",
     "text": [
      "[{'QualifierName': [], 'DescriptorName': StringElement('Algorithms', attributes={'UI': 'D000465', 'MajorTopicYN': 'N'})}, {'QualifierName': [], 'DescriptorName': StringElement('Clinical Decision-Making', attributes={'UI': 'D000066491', 'MajorTopicYN': 'N'})}, {'QualifierName': [], 'DescriptorName': StringElement('Diagnosis, Differential', attributes={'UI': 'D003937', 'MajorTopicYN': 'N'})}, {'QualifierName': [StringElement('diagnosis', attributes={'UI': 'Q000175', 'MajorTopicYN': 'N'}), StringElement('immunology', attributes={'UI': 'Q000276', 'MajorTopicYN': 'N'})], 'DescriptorName': StringElement('Drug Hypersensitivity', attributes={'UI': 'D004342', 'MajorTopicYN': 'Y'})}, {'QualifierName': [StringElement('diagnosis', attributes={'UI': 'Q000175', 'MajorTopicYN': 'Y'})], 'DescriptorName': StringElement('Drug-Related Side Effects and Adverse Reactions', attributes={'UI': 'D064420', 'MajorTopicYN': 'N'})}, {'QualifierName': [], 'DescriptorName': StringElement('Humans', attributes={'UI': 'D006801', 'MajorTopicYN': 'N'})}, {'QualifierName': [], 'DescriptorName': StringElement('Immunologic Tests', attributes={'UI': 'D007159', 'MajorTopicYN': 'N'})}, {'QualifierName': [StringElement('methods', attributes={'UI': 'Q000379', 'MajorTopicYN': 'N'}), StringElement('standards', attributes={'UI': 'Q000592', 'MajorTopicYN': 'N'})], 'DescriptorName': StringElement('Medical History Taking', attributes={'UI': 'D008487', 'MajorTopicYN': 'Y'})}, {'QualifierName': [StringElement('prevention & control', attributes={'UI': 'Q000517', 'MajorTopicYN': 'Y'})], 'DescriptorName': StringElement('Medication Errors', attributes={'UI': 'D008508', 'MajorTopicYN': 'N'})}, {'QualifierName': [StringElement('prevention & control', attributes={'UI': 'Q000517', 'MajorTopicYN': 'Y'})], 'DescriptorName': StringElement('Patient Harm', attributes={'UI': 'D064406', 'MajorTopicYN': 'N'})}]\n",
      "[{'QualifierName': [], 'DescriptorName': StringElement('Acute Disease', attributes={'UI': 'D000208', 'MajorTopicYN': 'N'})}, {'QualifierName': [StringElement('standards', attributes={'UI': 'Q000592', 'MajorTopicYN': 'N'})], 'DescriptorName': StringElement('Advisory Committees', attributes={'UI': 'D026683', 'MajorTopicYN': 'N'})}, {'QualifierName': [], 'DescriptorName': StringElement('Chronic Disease', attributes={'UI': 'D002908', 'MajorTopicYN': 'N'})}, {'QualifierName': [StringElement('complications', attributes={'UI': 'Q000150', 'MajorTopicYN': 'N'}), StringElement('diagnosis', attributes={'UI': 'Q000175', 'MajorTopicYN': 'N'})], 'DescriptorName': StringElement('Drug Hypersensitivity', attributes={'UI': 'D004342', 'MajorTopicYN': 'N'})}, {'QualifierName': [StringElement('complications', attributes={'UI': 'Q000150', 'MajorTopicYN': 'N'}), StringElement('diagnosis', attributes={'UI': 'Q000175', 'MajorTopicYN': 'N'})], 'DescriptorName': StringElement('Food Hypersensitivity', attributes={'UI': 'D005512', 'MajorTopicYN': 'N'})}, {'QualifierName': [], 'DescriptorName': StringElement('Humans', attributes={'UI': 'D006801', 'MajorTopicYN': 'N'})}, {'QualifierName': [], 'DescriptorName': StringElement('Practice Guidelines as Topic', attributes={'UI': 'D017410', 'MajorTopicYN': 'N'})}, {'QualifierName': [StringElement('methods', attributes={'UI': 'Q000379', 'MajorTopicYN': 'Y'}), StringElement('standards', attributes={'UI': 'Q000592', 'MajorTopicYN': 'N'})], 'DescriptorName': StringElement('Primary Health Care', attributes={'UI': 'D011320', 'MajorTopicYN': 'N'})}, {'QualifierName': [], 'DescriptorName': StringElement('Prognosis', attributes={'UI': 'D011379', 'MajorTopicYN': 'N'})}, {'QualifierName': [], 'DescriptorName': StringElement('Referral and Consultation', attributes={'UI': 'D012017', 'MajorTopicYN': 'N'})}, {'QualifierName': [StringElement('diagnosis', attributes={'UI': 'Q000175', 'MajorTopicYN': 'Y'}), StringElement('etiology', attributes={'UI': 'Q000209', 'MajorTopicYN': 'N'})], 'DescriptorName': StringElement('Urticaria', attributes={'UI': 'D014581', 'MajorTopicYN': 'N'})}]\n",
      "[{'QualifierName': [], 'DescriptorName': StringElement('Animals', attributes={'UI': 'D000818', 'MajorTopicYN': 'N'})}, {'QualifierName': [StringElement('genetics', attributes={'UI': 'Q000235', 'MajorTopicYN': 'N'}), StringElement('metabolism', attributes={'UI': 'Q000378', 'MajorTopicYN': 'Y'}), StringElement('pathology', attributes={'UI': 'Q000473', 'MajorTopicYN': 'N'})], 'DescriptorName': StringElement('Chemical and Drug Induced Liver Injury', attributes={'UI': 'D056486', 'MajorTopicYN': 'N'})}, {'QualifierName': [], 'DescriptorName': StringElement('Chromium', attributes={'UI': 'D002857', 'MajorTopicYN': 'Y'})}, {'QualifierName': [], 'DescriptorName': StringElement('Disease Models, Animal', attributes={'UI': 'D004195', 'MajorTopicYN': 'N'})}, {'QualifierName': [StringElement('deficiency', attributes={'UI': 'Q000172', 'MajorTopicYN': 'N'}), StringElement('genetics', attributes={'UI': 'Q000235', 'MajorTopicYN': 'N'}), StringElement('metabolism', attributes={'UI': 'Q000378', 'MajorTopicYN': 'Y'})], 'DescriptorName': StringElement('Hedgehog Proteins', attributes={'UI': 'D053823', 'MajorTopicYN': 'N'})}, {'QualifierName': [StringElement('metabolism', attributes={'UI': 'Q000378', 'MajorTopicYN': 'Y'}), StringElement('pathology', attributes={'UI': 'Q000473', 'MajorTopicYN': 'N'})], 'DescriptorName': StringElement('Hepatic Stellate Cells', attributes={'UI': 'D055166', 'MajorTopicYN': 'N'})}, {'QualifierName': [StringElement('metabolism', attributes={'UI': 'Q000378', 'MajorTopicYN': 'Y'}), StringElement('pathology', attributes={'UI': 'Q000473', 'MajorTopicYN': 'N'})], 'DescriptorName': StringElement('Liver', attributes={'UI': 'D008099', 'MajorTopicYN': 'N'})}, {'QualifierName': [StringElement('chemically induced', attributes={'UI': 'Q000139', 'MajorTopicYN': 'N'}), StringElement('genetics', attributes={'UI': 'Q000235', 'MajorTopicYN': 'N'}), StringElement('metabolism', attributes={'UI': 'Q000378', 'MajorTopicYN': 'Y'}), StringElement('pathology', attributes={'UI': 'Q000473', 'MajorTopicYN': 'N'})], 'DescriptorName': StringElement('Liver Cirrhosis, Experimental', attributes={'UI': 'D008106', 'MajorTopicYN': 'N'})}, {'QualifierName': [], 'DescriptorName': StringElement('Male', attributes={'UI': 'D008297', 'MajorTopicYN': 'N'})}, {'QualifierName': [], 'DescriptorName': StringElement('Mice, Inbred C57BL', attributes={'UI': 'D008810', 'MajorTopicYN': 'N'})}, {'QualifierName': [], 'DescriptorName': StringElement('Mice, Knockout', attributes={'UI': 'D018345', 'MajorTopicYN': 'N'})}, {'QualifierName': [], 'DescriptorName': StringElement('Potassium Dichromate', attributes={'UI': 'D011192', 'MajorTopicYN': 'Y'})}, {'QualifierName': [], 'DescriptorName': StringElement('Signal Transduction', attributes={'UI': 'D015398', 'MajorTopicYN': 'Y'})}]\n",
      "[{'QualifierName': [StringElement('adverse effects', attributes={'UI': 'Q000009', 'MajorTopicYN': 'Y'}), StringElement('immunology', attributes={'UI': 'Q000276', 'MajorTopicYN': 'N'}), StringElement('therapeutic use', attributes={'UI': 'Q000627', 'MajorTopicYN': 'N'})], 'DescriptorName': StringElement('Acetaminophen', attributes={'UI': 'D000082', 'MajorTopicYN': 'N'})}, {'QualifierName': [], 'DescriptorName': StringElement('Adult', attributes={'UI': 'D000328', 'MajorTopicYN': 'N'})}, {'QualifierName': [], 'DescriptorName': StringElement('Aged', attributes={'UI': 'D000368', 'MajorTopicYN': 'N'})}, {'QualifierName': [StringElement('immunology', attributes={'UI': 'Q000276', 'MajorTopicYN': 'N'})], 'DescriptorName': StringElement('Allergens', attributes={'UI': 'D000485', 'MajorTopicYN': 'N'})}, {'QualifierName': [StringElement('adverse effects', attributes={'UI': 'Q000009', 'MajorTopicYN': 'Y'}), StringElement('immunology', attributes={'UI': 'Q000276', 'MajorTopicYN': 'N'}), StringElement('therapeutic use', attributes={'UI': 'Q000627', 'MajorTopicYN': 'N'})], 'DescriptorName': StringElement('Anti-Inflammatory Agents, Non-Steroidal', attributes={'UI': 'D000894', 'MajorTopicYN': 'N'})}, {'QualifierName': [StringElement('blood', attributes={'UI': 'Q000097', 'MajorTopicYN': 'N'})], 'DescriptorName': StringElement('Biomarkers', attributes={'UI': 'D015415', 'MajorTopicYN': 'N'})}, {'QualifierName': [StringElement('adverse effects', attributes={'UI': 'Q000009', 'MajorTopicYN': 'Y'}), StringElement('immunology', attributes={'UI': 'Q000276', 'MajorTopicYN': 'N'}), StringElement('therapeutic use', attributes={'UI': 'Q000627', 'MajorTopicYN': 'N'})], 'DescriptorName': StringElement('Cyclooxygenase 2 Inhibitors', attributes={'UI': 'D052246', 'MajorTopicYN': 'N'})}, {'QualifierName': [StringElement('immunology', attributes={'UI': 'Q000276', 'MajorTopicYN': 'Y'})], 'DescriptorName': StringElement('Drug Hypersensitivity', attributes={'UI': 'D004342', 'MajorTopicYN': 'N'})}, {'QualifierName': [], 'DescriptorName': StringElement('Female', attributes={'UI': 'D005260', 'MajorTopicYN': 'N'})}, {'QualifierName': [StringElement('blood', attributes={'UI': 'Q000097', 'MajorTopicYN': 'Y'})], 'DescriptorName': StringElement('Histamine', attributes={'UI': 'D006632', 'MajorTopicYN': 'N'})}, {'QualifierName': [], 'DescriptorName': StringElement('Humans', attributes={'UI': 'D006801', 'MajorTopicYN': 'N'})}, {'QualifierName': [], 'DescriptorName': StringElement('Male', attributes={'UI': 'D008297', 'MajorTopicYN': 'N'})}, {'QualifierName': [], 'DescriptorName': StringElement('Middle Aged', attributes={'UI': 'D008875', 'MajorTopicYN': 'N'})}, {'QualifierName': [], 'DescriptorName': StringElement('Self Report', attributes={'UI': 'D057566', 'MajorTopicYN': 'N'})}, {'QualifierName': [], 'DescriptorName': StringElement('Young Adult', attributes={'UI': 'D055815', 'MajorTopicYN': 'N'})}]\n",
      "[{'QualifierName': [], 'DescriptorName': StringElement('Clinical Trials as Topic', attributes={'UI': 'D002986', 'MajorTopicYN': 'Y'})}, {'QualifierName': [StringElement('epidemiology', attributes={'UI': 'Q000453', 'MajorTopicYN': 'Y'})], 'DescriptorName': StringElement('Drug-Related Side Effects and Adverse Reactions', attributes={'UI': 'D064420', 'MajorTopicYN': 'N'})}, {'QualifierName': [], 'DescriptorName': StringElement('Humans', attributes={'UI': 'D006801', 'MajorTopicYN': 'N'})}, {'QualifierName': [], 'DescriptorName': StringElement('Incidence', attributes={'UI': 'D015994', 'MajorTopicYN': 'N'})}, {'QualifierName': [], 'DescriptorName': StringElement('Research Design', attributes={'UI': 'D012107', 'MajorTopicYN': 'Y'})}]\n"
     ]
    }
   ],
   "source": [
    "for pubmed_article in records['PubmedArticle']:\n",
    "   # print(pubmed_article['MedlineCitation']['Article']['ArticleTitle'])\n",
    "    print(pubmed_article['MedlineCitation']['MeshHeadingList'])\n",
    "#    pmid = int(str(pubmed_article['MedlineCitation']['PMID']))\n",
    " #   article = pubmed_article['MedlineCitation']['Article']\n",
    "   # mesh = pubmed_article['MedlineCitation']['MeshHeadingList']"
   ]
  },
  {
   "cell_type": "code",
   "execution_count": 103,
   "metadata": {},
   "outputs": [
    {
     "name": "stdout",
     "output_type": "stream",
     "text": [
      "1) The patient who reports a drug allergy.\n",
      "2) Approach to the Patient with Hives.\n",
      "3) Hedgehog signaling pathway regulates hexavalent chromium-induced liver fibrosis by activation of hepatic stellate cells.\n",
      "4) Increased Basal Blood Histamine Levels in Patients with Self-Reported Hypersensitivity to Non-Steroidal Anti-Inflammatory Drugs.\n",
      "5) How safe are our studies? Analysis of adverse events in Bayer First-in-Human trials from 2006 to 2016 ",
      ".\n"
     ]
    }
   ],
   "source": [
    "for i, records in enumerate(records['PubmedArticle']): \n",
    "    print(\"%d) %s\" % (i+1, records['MedlineCitation']['Article']['ArticleTitle']))"
   ]
  },
  {
   "cell_type": "code",
   "execution_count": 99,
   "metadata": {},
   "outputs": [
    {
     "data": {
      "text/html": [
       "<div>\n",
       "<style scoped>\n",
       "    .dataframe tbody tr th:only-of-type {\n",
       "        vertical-align: middle;\n",
       "    }\n",
       "\n",
       "    .dataframe tbody tr th {\n",
       "        vertical-align: top;\n",
       "    }\n",
       "\n",
       "    .dataframe thead th {\n",
       "        text-align: right;\n",
       "    }\n",
       "</style>\n",
       "<table border=\"1\" class=\"dataframe\">\n",
       "  <thead>\n",
       "    <tr style=\"text-align: right;\">\n",
       "      <th></th>\n",
       "      <th>MedlineCitation</th>\n",
       "      <th>PubmedData</th>\n",
       "    </tr>\n",
       "  </thead>\n",
       "  <tbody>\n",
       "    <tr>\n",
       "      <th>OtherID</th>\n",
       "      <td>[]</td>\n",
       "      <td>NaN</td>\n",
       "    </tr>\n",
       "    <tr>\n",
       "      <th>KeywordList</th>\n",
       "      <td>[[Empiric therapy of fever and neutropenia, Ev...</td>\n",
       "      <td>NaN</td>\n",
       "    </tr>\n",
       "    <tr>\n",
       "      <th>OtherAbstract</th>\n",
       "      <td>[]</td>\n",
       "      <td>NaN</td>\n",
       "    </tr>\n",
       "    <tr>\n",
       "      <th>CitationSubset</th>\n",
       "      <td>[IM]</td>\n",
       "      <td>NaN</td>\n",
       "    </tr>\n",
       "    <tr>\n",
       "      <th>SpaceFlightMission</th>\n",
       "      <td>[]</td>\n",
       "      <td>NaN</td>\n",
       "    </tr>\n",
       "    <tr>\n",
       "      <th>GeneralNote</th>\n",
       "      <td>[]</td>\n",
       "      <td>NaN</td>\n",
       "    </tr>\n",
       "    <tr>\n",
       "      <th>PMID</th>\n",
       "      <td>31005134</td>\n",
       "      <td>NaN</td>\n",
       "    </tr>\n",
       "    <tr>\n",
       "      <th>DateCompleted</th>\n",
       "      <td>{'Year': '2019', 'Month': '12', 'Day': '11'}</td>\n",
       "      <td>NaN</td>\n",
       "    </tr>\n",
       "    <tr>\n",
       "      <th>DateRevised</th>\n",
       "      <td>{'Year': '2019', 'Month': '12', 'Day': '17'}</td>\n",
       "      <td>NaN</td>\n",
       "    </tr>\n",
       "    <tr>\n",
       "      <th>Article</th>\n",
       "      <td>{'ELocationID': ['S0891-5520(19)30006-6', '10....</td>\n",
       "      <td>NaN</td>\n",
       "    </tr>\n",
       "    <tr>\n",
       "      <th>MedlineJournalInfo</th>\n",
       "      <td>{'Country': 'United States', 'MedlineTA': 'Inf...</td>\n",
       "      <td>NaN</td>\n",
       "    </tr>\n",
       "    <tr>\n",
       "      <th>ChemicalList</th>\n",
       "      <td>[{'RegistryNumber': '0', 'NameOfSubstance': 'A...</td>\n",
       "      <td>NaN</td>\n",
       "    </tr>\n",
       "    <tr>\n",
       "      <th>MeshHeadingList</th>\n",
       "      <td>[{'QualifierName': [], 'DescriptorName': 'Algo...</td>\n",
       "      <td>NaN</td>\n",
       "    </tr>\n",
       "    <tr>\n",
       "      <th>ReferenceList</th>\n",
       "      <td>NaN</td>\n",
       "      <td>[]</td>\n",
       "    </tr>\n",
       "    <tr>\n",
       "      <th>History</th>\n",
       "      <td>NaN</td>\n",
       "      <td>[{'Year': '2019', 'Month': '4', 'Day': '22', '...</td>\n",
       "    </tr>\n",
       "    <tr>\n",
       "      <th>PublicationStatus</th>\n",
       "      <td>NaN</td>\n",
       "      <td>ppublish</td>\n",
       "    </tr>\n",
       "    <tr>\n",
       "      <th>ArticleIdList</th>\n",
       "      <td>NaN</td>\n",
       "      <td>[31005134, S0891-5520(19)30006-6, 10.1016/j.id...</td>\n",
       "    </tr>\n",
       "  </tbody>\n",
       "</table>\n",
       "</div>"
      ],
      "text/plain": [
       "                                                      MedlineCitation  \\\n",
       "OtherID                                                            []   \n",
       "KeywordList         [[Empiric therapy of fever and neutropenia, Ev...   \n",
       "OtherAbstract                                                      []   \n",
       "CitationSubset                                                   [IM]   \n",
       "SpaceFlightMission                                                 []   \n",
       "GeneralNote                                                        []   \n",
       "PMID                                                         31005134   \n",
       "DateCompleted            {'Year': '2019', 'Month': '12', 'Day': '11'}   \n",
       "DateRevised              {'Year': '2019', 'Month': '12', 'Day': '17'}   \n",
       "Article             {'ELocationID': ['S0891-5520(19)30006-6', '10....   \n",
       "MedlineJournalInfo  {'Country': 'United States', 'MedlineTA': 'Inf...   \n",
       "ChemicalList        [{'RegistryNumber': '0', 'NameOfSubstance': 'A...   \n",
       "MeshHeadingList     [{'QualifierName': [], 'DescriptorName': 'Algo...   \n",
       "ReferenceList                                                     NaN   \n",
       "History                                                           NaN   \n",
       "PublicationStatus                                                 NaN   \n",
       "ArticleIdList                                                     NaN   \n",
       "\n",
       "                                                           PubmedData  \n",
       "OtherID                                                           NaN  \n",
       "KeywordList                                                       NaN  \n",
       "OtherAbstract                                                     NaN  \n",
       "CitationSubset                                                    NaN  \n",
       "SpaceFlightMission                                                NaN  \n",
       "GeneralNote                                                       NaN  \n",
       "PMID                                                              NaN  \n",
       "DateCompleted                                                     NaN  \n",
       "DateRevised                                                       NaN  \n",
       "Article                                                           NaN  \n",
       "MedlineJournalInfo                                                NaN  \n",
       "ChemicalList                                                      NaN  \n",
       "MeshHeadingList                                                   NaN  \n",
       "ReferenceList                                                      []  \n",
       "History             [{'Year': '2019', 'Month': '4', 'Day': '22', '...  \n",
       "PublicationStatus                                            ppublish  \n",
       "ArticleIdList       [31005134, S0891-5520(19)30006-6, 10.1016/j.id...  "
      ]
     },
     "execution_count": 99,
     "metadata": {},
     "output_type": "execute_result"
    }
   ],
   "source": [
    "test = pd.DataFrame.from_dict(records)\n",
    "test"
   ]
  },
  {
   "cell_type": "code",
   "execution_count": null,
   "metadata": {},
   "outputs": [],
   "source": []
  }
 ],
 "metadata": {
  "kernelspec": {
   "display_name": "Python 3",
   "language": "python",
   "name": "python3"
  },
  "language_info": {
   "codemirror_mode": {
    "name": "ipython",
    "version": 3
   },
   "file_extension": ".py",
   "mimetype": "text/x-python",
   "name": "python",
   "nbconvert_exporter": "python",
   "pygments_lexer": "ipython3",
   "version": "3.7.6"
  }
 },
 "nbformat": 4,
 "nbformat_minor": 2
}
